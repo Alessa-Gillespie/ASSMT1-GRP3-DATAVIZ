{
 "cells": [
  {
   "cell_type": "code",
   "execution_count": 209,
   "metadata": {},
   "outputs": [],
   "source": [
    "# IMPORTS\n",
    "import matplotlib.pyplot as plt\n",
    "import numpy as np\n",
    "import pandas as pd\n",
    "import seaborn as sns\n",
    "import plotly.express as px"
   ]
  },
  {
   "cell_type": "code",
   "execution_count": 210,
   "metadata": {},
   "outputs": [],
   "source": [
    "# SETTING UP THE FOLDERS\n",
    "folder_link = \"data\"\n",
    "fao_csv = folder_link + \"/FAO.csv\"\n",
    "faostat_csv = folder_link + \"/FAOSTAT.csv\""
   ]
  },
  {
   "cell_type": "markdown",
   "metadata": {},
   "source": [
    "# Task 1: Data Wrangling"
   ]
  },
  {
   "cell_type": "markdown",
   "metadata": {},
   "source": [
    "1. Data Cleaning:\n",
    "- Load both datasets into Pandas DataFrames.\n",
    "- Create a data dictionary.\n",
    "- Check for and handle any missing values. Provide a brief explanation of the method you used to handle missing data.\n",
    "- Remove any duplicate rows from both datasets.\n",
    "- Standardize column names to ensure consistency between both datasets.\n",
    "\n"
   ]
  },
  {
   "cell_type": "code",
   "execution_count": 211,
   "metadata": {},
   "outputs": [],
   "source": [
    "# Load both datasets\n",
    "\n",
    "fao_df = pd.read_csv(fao_csv, encoding='ISO-8859-1')\n",
    "faostat_df = pd.read_csv(faostat_csv, encoding='ISO-8859-1')"
   ]
  },
  {
   "cell_type": "code",
   "execution_count": 212,
   "metadata": {},
   "outputs": [
    {
     "data": {
      "text/html": [
       "<div>\n",
       "<style scoped>\n",
       "    .dataframe tbody tr th:only-of-type {\n",
       "        vertical-align: middle;\n",
       "    }\n",
       "\n",
       "    .dataframe tbody tr th {\n",
       "        vertical-align: top;\n",
       "    }\n",
       "\n",
       "    .dataframe thead th {\n",
       "        text-align: right;\n",
       "    }\n",
       "</style>\n",
       "<table border=\"1\" class=\"dataframe\">\n",
       "  <thead>\n",
       "    <tr style=\"text-align: right;\">\n",
       "      <th></th>\n",
       "      <th>Area Abbreviation</th>\n",
       "      <th>Area Code</th>\n",
       "      <th>Area</th>\n",
       "      <th>Item Code</th>\n",
       "      <th>Item</th>\n",
       "      <th>Element Code</th>\n",
       "      <th>Element</th>\n",
       "      <th>Unit</th>\n",
       "      <th>latitude</th>\n",
       "      <th>longitude</th>\n",
       "      <th>...</th>\n",
       "      <th>Y2004</th>\n",
       "      <th>Y2005</th>\n",
       "      <th>Y2006</th>\n",
       "      <th>Y2007</th>\n",
       "      <th>Y2008</th>\n",
       "      <th>Y2009</th>\n",
       "      <th>Y2010</th>\n",
       "      <th>Y2011</th>\n",
       "      <th>Y2012</th>\n",
       "      <th>Y2013</th>\n",
       "    </tr>\n",
       "  </thead>\n",
       "  <tbody>\n",
       "    <tr>\n",
       "      <th>0</th>\n",
       "      <td>AFG</td>\n",
       "      <td>2</td>\n",
       "      <td>Afghanistan</td>\n",
       "      <td>2511</td>\n",
       "      <td>Wheat and products</td>\n",
       "      <td>5142</td>\n",
       "      <td>Food</td>\n",
       "      <td>1000 tonnes</td>\n",
       "      <td>33.94</td>\n",
       "      <td>67.71</td>\n",
       "      <td>...</td>\n",
       "      <td>3249.0</td>\n",
       "      <td>3486.0</td>\n",
       "      <td>3704.0</td>\n",
       "      <td>4164.0</td>\n",
       "      <td>4252.0</td>\n",
       "      <td>4538.0</td>\n",
       "      <td>4605.0</td>\n",
       "      <td>4711.0</td>\n",
       "      <td>4810</td>\n",
       "      <td>4895</td>\n",
       "    </tr>\n",
       "    <tr>\n",
       "      <th>1</th>\n",
       "      <td>AFG</td>\n",
       "      <td>2</td>\n",
       "      <td>Afghanistan</td>\n",
       "      <td>2805</td>\n",
       "      <td>Rice (Milled Equivalent)</td>\n",
       "      <td>5142</td>\n",
       "      <td>Food</td>\n",
       "      <td>1000 tonnes</td>\n",
       "      <td>33.94</td>\n",
       "      <td>67.71</td>\n",
       "      <td>...</td>\n",
       "      <td>419.0</td>\n",
       "      <td>445.0</td>\n",
       "      <td>546.0</td>\n",
       "      <td>455.0</td>\n",
       "      <td>490.0</td>\n",
       "      <td>415.0</td>\n",
       "      <td>442.0</td>\n",
       "      <td>476.0</td>\n",
       "      <td>425</td>\n",
       "      <td>422</td>\n",
       "    </tr>\n",
       "    <tr>\n",
       "      <th>2</th>\n",
       "      <td>AFG</td>\n",
       "      <td>2</td>\n",
       "      <td>Afghanistan</td>\n",
       "      <td>2513</td>\n",
       "      <td>Barley and products</td>\n",
       "      <td>5521</td>\n",
       "      <td>Feed</td>\n",
       "      <td>1000 tonnes</td>\n",
       "      <td>33.94</td>\n",
       "      <td>67.71</td>\n",
       "      <td>...</td>\n",
       "      <td>58.0</td>\n",
       "      <td>236.0</td>\n",
       "      <td>262.0</td>\n",
       "      <td>263.0</td>\n",
       "      <td>230.0</td>\n",
       "      <td>379.0</td>\n",
       "      <td>315.0</td>\n",
       "      <td>203.0</td>\n",
       "      <td>367</td>\n",
       "      <td>360</td>\n",
       "    </tr>\n",
       "    <tr>\n",
       "      <th>3</th>\n",
       "      <td>AFG</td>\n",
       "      <td>2</td>\n",
       "      <td>Afghanistan</td>\n",
       "      <td>2513</td>\n",
       "      <td>Barley and products</td>\n",
       "      <td>5142</td>\n",
       "      <td>Food</td>\n",
       "      <td>1000 tonnes</td>\n",
       "      <td>33.94</td>\n",
       "      <td>67.71</td>\n",
       "      <td>...</td>\n",
       "      <td>185.0</td>\n",
       "      <td>43.0</td>\n",
       "      <td>44.0</td>\n",
       "      <td>48.0</td>\n",
       "      <td>62.0</td>\n",
       "      <td>55.0</td>\n",
       "      <td>60.0</td>\n",
       "      <td>72.0</td>\n",
       "      <td>78</td>\n",
       "      <td>89</td>\n",
       "    </tr>\n",
       "    <tr>\n",
       "      <th>4</th>\n",
       "      <td>AFG</td>\n",
       "      <td>2</td>\n",
       "      <td>Afghanistan</td>\n",
       "      <td>2514</td>\n",
       "      <td>Maize and products</td>\n",
       "      <td>5521</td>\n",
       "      <td>Feed</td>\n",
       "      <td>1000 tonnes</td>\n",
       "      <td>33.94</td>\n",
       "      <td>67.71</td>\n",
       "      <td>...</td>\n",
       "      <td>120.0</td>\n",
       "      <td>208.0</td>\n",
       "      <td>233.0</td>\n",
       "      <td>249.0</td>\n",
       "      <td>247.0</td>\n",
       "      <td>195.0</td>\n",
       "      <td>178.0</td>\n",
       "      <td>191.0</td>\n",
       "      <td>200</td>\n",
       "      <td>200</td>\n",
       "    </tr>\n",
       "  </tbody>\n",
       "</table>\n",
       "<p>5 rows × 63 columns</p>\n",
       "</div>"
      ],
      "text/plain": [
       "  Area Abbreviation  Area Code         Area  Item Code  \\\n",
       "0               AFG          2  Afghanistan       2511   \n",
       "1               AFG          2  Afghanistan       2805   \n",
       "2               AFG          2  Afghanistan       2513   \n",
       "3               AFG          2  Afghanistan       2513   \n",
       "4               AFG          2  Afghanistan       2514   \n",
       "\n",
       "                       Item  Element Code Element         Unit  latitude  \\\n",
       "0        Wheat and products          5142    Food  1000 tonnes     33.94   \n",
       "1  Rice (Milled Equivalent)          5142    Food  1000 tonnes     33.94   \n",
       "2       Barley and products          5521    Feed  1000 tonnes     33.94   \n",
       "3       Barley and products          5142    Food  1000 tonnes     33.94   \n",
       "4        Maize and products          5521    Feed  1000 tonnes     33.94   \n",
       "\n",
       "   longitude  ...   Y2004   Y2005   Y2006   Y2007   Y2008   Y2009   Y2010  \\\n",
       "0      67.71  ...  3249.0  3486.0  3704.0  4164.0  4252.0  4538.0  4605.0   \n",
       "1      67.71  ...   419.0   445.0   546.0   455.0   490.0   415.0   442.0   \n",
       "2      67.71  ...    58.0   236.0   262.0   263.0   230.0   379.0   315.0   \n",
       "3      67.71  ...   185.0    43.0    44.0    48.0    62.0    55.0    60.0   \n",
       "4      67.71  ...   120.0   208.0   233.0   249.0   247.0   195.0   178.0   \n",
       "\n",
       "    Y2011  Y2012  Y2013  \n",
       "0  4711.0   4810   4895  \n",
       "1   476.0    425    422  \n",
       "2   203.0    367    360  \n",
       "3    72.0     78     89  \n",
       "4   191.0    200    200  \n",
       "\n",
       "[5 rows x 63 columns]"
      ]
     },
     "execution_count": 212,
     "metadata": {},
     "output_type": "execute_result"
    }
   ],
   "source": [
    "fao_df.head()"
   ]
  },
  {
   "cell_type": "code",
   "execution_count": 213,
   "metadata": {},
   "outputs": [
    {
     "data": {
      "text/html": [
       "<div>\n",
       "<style scoped>\n",
       "    .dataframe tbody tr th:only-of-type {\n",
       "        vertical-align: middle;\n",
       "    }\n",
       "\n",
       "    .dataframe tbody tr th {\n",
       "        vertical-align: top;\n",
       "    }\n",
       "\n",
       "    .dataframe thead th {\n",
       "        text-align: right;\n",
       "    }\n",
       "</style>\n",
       "<table border=\"1\" class=\"dataframe\">\n",
       "  <thead>\n",
       "    <tr style=\"text-align: right;\">\n",
       "      <th></th>\n",
       "      <th>Domain Code</th>\n",
       "      <th>Domain</th>\n",
       "      <th>Area Code</th>\n",
       "      <th>Area</th>\n",
       "      <th>Element Code</th>\n",
       "      <th>Element</th>\n",
       "      <th>Item Code</th>\n",
       "      <th>Item</th>\n",
       "      <th>Year Code</th>\n",
       "      <th>Year</th>\n",
       "      <th>Unit</th>\n",
       "      <th>Value</th>\n",
       "      <th>Flag</th>\n",
       "      <th>Flag Description</th>\n",
       "      <th>Note</th>\n",
       "    </tr>\n",
       "  </thead>\n",
       "  <tbody>\n",
       "    <tr>\n",
       "      <th>0</th>\n",
       "      <td>OA</td>\n",
       "      <td>Annual population</td>\n",
       "      <td>2</td>\n",
       "      <td>Afghanistan</td>\n",
       "      <td>511</td>\n",
       "      <td>Total Population - Both sexes</td>\n",
       "      <td>3010</td>\n",
       "      <td>Population - Est. &amp; Proj.</td>\n",
       "      <td>2017</td>\n",
       "      <td>2017</td>\n",
       "      <td>1000 persons</td>\n",
       "      <td>35530.081</td>\n",
       "      <td>X</td>\n",
       "      <td>International reliable sources</td>\n",
       "      <td>UNDESA, Population Division â World Populati...</td>\n",
       "    </tr>\n",
       "    <tr>\n",
       "      <th>1</th>\n",
       "      <td>OA</td>\n",
       "      <td>Annual population</td>\n",
       "      <td>3</td>\n",
       "      <td>Albania</td>\n",
       "      <td>511</td>\n",
       "      <td>Total Population - Both sexes</td>\n",
       "      <td>3010</td>\n",
       "      <td>Population - Est. &amp; Proj.</td>\n",
       "      <td>2017</td>\n",
       "      <td>2017</td>\n",
       "      <td>1000 persons</td>\n",
       "      <td>2930.187</td>\n",
       "      <td>X</td>\n",
       "      <td>International reliable sources</td>\n",
       "      <td>UNDESA, Population Division â World Populati...</td>\n",
       "    </tr>\n",
       "    <tr>\n",
       "      <th>2</th>\n",
       "      <td>OA</td>\n",
       "      <td>Annual population</td>\n",
       "      <td>4</td>\n",
       "      <td>Algeria</td>\n",
       "      <td>511</td>\n",
       "      <td>Total Population - Both sexes</td>\n",
       "      <td>3010</td>\n",
       "      <td>Population - Est. &amp; Proj.</td>\n",
       "      <td>2017</td>\n",
       "      <td>2017</td>\n",
       "      <td>1000 persons</td>\n",
       "      <td>41318.142</td>\n",
       "      <td>X</td>\n",
       "      <td>International reliable sources</td>\n",
       "      <td>UNDESA, Population Division â World Populati...</td>\n",
       "    </tr>\n",
       "    <tr>\n",
       "      <th>3</th>\n",
       "      <td>OA</td>\n",
       "      <td>Annual population</td>\n",
       "      <td>5</td>\n",
       "      <td>American Samoa</td>\n",
       "      <td>511</td>\n",
       "      <td>Total Population - Both sexes</td>\n",
       "      <td>3010</td>\n",
       "      <td>Population - Est. &amp; Proj.</td>\n",
       "      <td>2017</td>\n",
       "      <td>2017</td>\n",
       "      <td>1000 persons</td>\n",
       "      <td>55.641</td>\n",
       "      <td>X</td>\n",
       "      <td>International reliable sources</td>\n",
       "      <td>UNDESA, Population Division â World Populati...</td>\n",
       "    </tr>\n",
       "    <tr>\n",
       "      <th>4</th>\n",
       "      <td>OA</td>\n",
       "      <td>Annual population</td>\n",
       "      <td>6</td>\n",
       "      <td>Andorra</td>\n",
       "      <td>511</td>\n",
       "      <td>Total Population - Both sexes</td>\n",
       "      <td>3010</td>\n",
       "      <td>Population - Est. &amp; Proj.</td>\n",
       "      <td>2017</td>\n",
       "      <td>2017</td>\n",
       "      <td>1000 persons</td>\n",
       "      <td>76.965</td>\n",
       "      <td>X</td>\n",
       "      <td>International reliable sources</td>\n",
       "      <td>UNDESA, Population Division â World Populati...</td>\n",
       "    </tr>\n",
       "  </tbody>\n",
       "</table>\n",
       "</div>"
      ],
      "text/plain": [
       "  Domain Code             Domain  Area Code            Area  Element Code  \\\n",
       "0          OA  Annual population          2     Afghanistan           511   \n",
       "1          OA  Annual population          3         Albania           511   \n",
       "2          OA  Annual population          4         Algeria           511   \n",
       "3          OA  Annual population          5  American Samoa           511   \n",
       "4          OA  Annual population          6         Andorra           511   \n",
       "\n",
       "                         Element  Item Code                       Item  \\\n",
       "0  Total Population - Both sexes       3010  Population - Est. & Proj.   \n",
       "1  Total Population - Both sexes       3010  Population - Est. & Proj.   \n",
       "2  Total Population - Both sexes       3010  Population - Est. & Proj.   \n",
       "3  Total Population - Both sexes       3010  Population - Est. & Proj.   \n",
       "4  Total Population - Both sexes       3010  Population - Est. & Proj.   \n",
       "\n",
       "   Year Code  Year          Unit      Value Flag  \\\n",
       "0       2017  2017  1000 persons  35530.081    X   \n",
       "1       2017  2017  1000 persons   2930.187    X   \n",
       "2       2017  2017  1000 persons  41318.142    X   \n",
       "3       2017  2017  1000 persons     55.641    X   \n",
       "4       2017  2017  1000 persons     76.965    X   \n",
       "\n",
       "                 Flag Description  \\\n",
       "0  International reliable sources   \n",
       "1  International reliable sources   \n",
       "2  International reliable sources   \n",
       "3  International reliable sources   \n",
       "4  International reliable sources   \n",
       "\n",
       "                                                Note  \n",
       "0  UNDESA, Population Division â World Populati...  \n",
       "1  UNDESA, Population Division â World Populati...  \n",
       "2  UNDESA, Population Division â World Populati...  \n",
       "3  UNDESA, Population Division â World Populati...  \n",
       "4  UNDESA, Population Division â World Populati...  "
      ]
     },
     "execution_count": 213,
     "metadata": {},
     "output_type": "execute_result"
    }
   ],
   "source": [
    "faostat_df.head()"
   ]
  },
  {
   "cell_type": "code",
   "execution_count": 214,
   "metadata": {},
   "outputs": [
    {
     "name": "stdout",
     "output_type": "stream",
     "text": [
      "<class 'pandas.core.frame.DataFrame'>\n",
      "RangeIndex: 21477 entries, 0 to 21476\n",
      "Data columns (total 63 columns):\n",
      " #   Column             Non-Null Count  Dtype  \n",
      "---  ------             --------------  -----  \n",
      " 0   Area Abbreviation  21477 non-null  object \n",
      " 1   Area Code          21477 non-null  int64  \n",
      " 2   Area               21477 non-null  object \n",
      " 3   Item Code          21477 non-null  int64  \n",
      " 4   Item               21477 non-null  object \n",
      " 5   Element Code       21477 non-null  int64  \n",
      " 6   Element            21477 non-null  object \n",
      " 7   Unit               21477 non-null  object \n",
      " 8   latitude           21477 non-null  float64\n",
      " 9   longitude          21477 non-null  float64\n",
      " 10  Y1961              17938 non-null  float64\n",
      " 11  Y1962              17938 non-null  float64\n",
      " 12  Y1963              17938 non-null  float64\n",
      " 13  Y1964              17938 non-null  float64\n",
      " 14  Y1965              17938 non-null  float64\n",
      " 15  Y1966              17938 non-null  float64\n",
      " 16  Y1967              17938 non-null  float64\n",
      " 17  Y1968              17938 non-null  float64\n",
      " 18  Y1969              17938 non-null  float64\n",
      " 19  Y1970              17938 non-null  float64\n",
      " 20  Y1971              17938 non-null  float64\n",
      " 21  Y1972              17938 non-null  float64\n",
      " 22  Y1973              17938 non-null  float64\n",
      " 23  Y1974              17938 non-null  float64\n",
      " 24  Y1975              17938 non-null  float64\n",
      " 25  Y1976              17938 non-null  float64\n",
      " 26  Y1977              17938 non-null  float64\n",
      " 27  Y1978              17938 non-null  float64\n",
      " 28  Y1979              17938 non-null  float64\n",
      " 29  Y1980              17938 non-null  float64\n",
      " 30  Y1981              17938 non-null  float64\n",
      " 31  Y1982              17938 non-null  float64\n",
      " 32  Y1983              17938 non-null  float64\n",
      " 33  Y1984              17938 non-null  float64\n",
      " 34  Y1985              17938 non-null  float64\n",
      " 35  Y1986              17938 non-null  float64\n",
      " 36  Y1987              17938 non-null  float64\n",
      " 37  Y1988              17938 non-null  float64\n",
      " 38  Y1989              17938 non-null  float64\n",
      " 39  Y1990              18062 non-null  float64\n",
      " 40  Y1991              18062 non-null  float64\n",
      " 41  Y1992              20490 non-null  float64\n",
      " 42  Y1993              20865 non-null  float64\n",
      " 43  Y1994              20865 non-null  float64\n",
      " 44  Y1995              20865 non-null  float64\n",
      " 45  Y1996              20865 non-null  float64\n",
      " 46  Y1997              20865 non-null  float64\n",
      " 47  Y1998              20865 non-null  float64\n",
      " 48  Y1999              20865 non-null  float64\n",
      " 49  Y2000              21128 non-null  float64\n",
      " 50  Y2001              21128 non-null  float64\n",
      " 51  Y2002              21128 non-null  float64\n",
      " 52  Y2003              21128 non-null  float64\n",
      " 53  Y2004              21128 non-null  float64\n",
      " 54  Y2005              21128 non-null  float64\n",
      " 55  Y2006              21373 non-null  float64\n",
      " 56  Y2007              21373 non-null  float64\n",
      " 57  Y2008              21373 non-null  float64\n",
      " 58  Y2009              21373 non-null  float64\n",
      " 59  Y2010              21373 non-null  float64\n",
      " 60  Y2011              21373 non-null  float64\n",
      " 61  Y2012              21477 non-null  int64  \n",
      " 62  Y2013              21477 non-null  int64  \n",
      "dtypes: float64(53), int64(5), object(5)\n",
      "memory usage: 10.3+ MB\n"
     ]
    }
   ],
   "source": [
    "fao_df.info()"
   ]
  },
  {
   "cell_type": "code",
   "execution_count": 215,
   "metadata": {},
   "outputs": [
    {
     "name": "stdout",
     "output_type": "stream",
     "text": [
      "<class 'pandas.core.frame.DataFrame'>\n",
      "RangeIndex: 231 entries, 0 to 230\n",
      "Data columns (total 15 columns):\n",
      " #   Column            Non-Null Count  Dtype  \n",
      "---  ------            --------------  -----  \n",
      " 0   Domain Code       231 non-null    object \n",
      " 1   Domain            231 non-null    object \n",
      " 2   Area Code         231 non-null    int64  \n",
      " 3   Area              231 non-null    object \n",
      " 4   Element Code      231 non-null    int64  \n",
      " 5   Element           231 non-null    object \n",
      " 6   Item Code         231 non-null    int64  \n",
      " 7   Item              231 non-null    object \n",
      " 8   Year Code         231 non-null    int64  \n",
      " 9   Year              231 non-null    int64  \n",
      " 10  Unit              231 non-null    object \n",
      " 11  Value             231 non-null    float64\n",
      " 12  Flag              231 non-null    object \n",
      " 13  Flag Description  231 non-null    object \n",
      " 14  Note              231 non-null    object \n",
      "dtypes: float64(1), int64(5), object(9)\n",
      "memory usage: 27.2+ KB\n"
     ]
    }
   ],
   "source": [
    "faostat_df.info()"
   ]
  },
  {
   "cell_type": "code",
   "execution_count": 216,
   "metadata": {},
   "outputs": [
    {
     "name": "stdout",
     "output_type": "stream",
     "text": [
      "Updated FAO Data Dictionary:\n",
      "                          Column Name Data Type  \\\n",
      "Area Abbreviation  Area Abbreviation    object   \n",
      "Area Code                  Area Code     int64   \n",
      "Area                            Area    object   \n",
      "Item Code                  Item Code     int64   \n",
      "Item                            Item    object   \n",
      "...                              ...       ...   \n",
      "Y2009                          Y2009   float64   \n",
      "Y2010                          Y2010   float64   \n",
      "Y2011                          Y2011   float64   \n",
      "Y2012                          Y2012     int64   \n",
      "Y2013                          Y2013     int64   \n",
      "\n",
      "                                                         Description  \n",
      "Area Abbreviation  Abbreviation for the area (e.g., country or re...  \n",
      "Area Code                           Unique code assigned to the area  \n",
      "Area                      Name of the area (e.g., country or region)  \n",
      "Item Code           Unique code for the item (e.g., crop, livestock)  \n",
      "Item                            Name of the item (e.g., wheat, rice)  \n",
      "...                                                              ...  \n",
      "Y2009                                         Data for the year 2009  \n",
      "Y2010                                         Data for the year 2010  \n",
      "Y2011                                         Data for the year 2011  \n",
      "Y2012                                         Data for the year 2012  \n",
      "Y2013                                         Data for the year 2013  \n",
      "\n",
      "[63 rows x 3 columns]\n"
     ]
    }
   ],
   "source": [
    "# Create a data dictionary \n",
    "\n",
    "# function to create a data dictionary\n",
    "def create_data_dictionary(df):\n",
    "    data_dict = {\n",
    "        'Column Name': df.columns,\n",
    "        'Data Type': df.dtypes,\n",
    "        'Description': ['Description needed'] * len(df.columns)  # Placeholder for descriptions\n",
    "    }\n",
    "    return pd.DataFrame(data_dict)\n",
    "\n",
    "# generate data dictionaries using the function\n",
    "faodata_dict = create_data_dictionary(fao_df)\n",
    "faostatdata_dict = create_data_dictionary(faostat_df)\n",
    "\n",
    "# update descriptions for FAO data dictionary\n",
    "descriptions_fao = {\n",
    "    'Area Abbreviation': 'Abbreviation for the area (e.g., country or region)',\n",
    "    'Area Code': 'Unique code assigned to the area',\n",
    "    'Area': 'Name of the area (e.g., country or region)',\n",
    "    'Item Code': 'Unique code for the item (e.g., crop, livestock)',\n",
    "    'Item': 'Name of the item (e.g., wheat, rice)',\n",
    "    'Element Code': 'Unique code for the measurement element (e.g., production, yield)',\n",
    "    'Element': 'Name of the element (e.g., production, yield, consumption)',\n",
    "    'Unit': 'Unit of measurement (e.g., tons, hectares)',\n",
    "    'latitude': 'Latitude coordinate of the area',\n",
    "    'longitude': 'Longitude coordinate of the area',\n",
    "    'Y1961': 'Data for the year 1961',\n",
    "    'Y1962': 'Data for the year 1962',\n",
    "    'Y1963': 'Data for the year 1963',\n",
    "    'Y1964': 'Data for the year 1964',\n",
    "    'Y1965': 'Data for the year 1965',\n",
    "    'Y1966': 'Data for the year 1966',\n",
    "    'Y1967': 'Data for the year 1967',\n",
    "    'Y1968': 'Data for the year 1968',\n",
    "    'Y1969': 'Data for the year 1969',\n",
    "    'Y1970': 'Data for the year 1970',\n",
    "    'Y1971': 'Data for the year 1971',\n",
    "    'Y1972': 'Data for the year 1972',\n",
    "    'Y1973': 'Data for the year 1973',\n",
    "    'Y1974': 'Data for the year 1974',\n",
    "    'Y1975': 'Data for the year 1975',\n",
    "    'Y1976': 'Data for the year 1976',\n",
    "    'Y1977': 'Data for the year 1977',\n",
    "    'Y1978': 'Data for the year 1978',\n",
    "    'Y1979': 'Data for the year 1979',\n",
    "    'Y1980': 'Data for the year 1980',\n",
    "    'Y1981': 'Data for the year 1981',\n",
    "    'Y1982': 'Data for the year 1982',\n",
    "    'Y1983': 'Data for the year 1983',\n",
    "    'Y1984': 'Data for the year 1984',\n",
    "    'Y1985': 'Data for the year 1985',\n",
    "    'Y1986': 'Data for the year 1986',\n",
    "    'Y1987': 'Data for the year 1987',\n",
    "    'Y1988': 'Data for the year 1988',\n",
    "    'Y1989': 'Data for the year 1989',\n",
    "    'Y1990': 'Data for the year 1990',\n",
    "    'Y1991': 'Data for the year 1991',\n",
    "    'Y1992': 'Data for the year 1992',\n",
    "    'Y1993': 'Data for the year 1993',\n",
    "    'Y1994': 'Data for the year 1994',\n",
    "    'Y1995': 'Data for the year 1995',\n",
    "    'Y1996': 'Data for the year 1996',\n",
    "    'Y1997': 'Data for the year 1997',\n",
    "    'Y1998': 'Data for the year 1998',\n",
    "    'Y1999': 'Data for the year 1999',\n",
    "    'Y2000': 'Data for the year 2000',\n",
    "    'Y2001': 'Data for the year 2001',\n",
    "    'Y2002': 'Data for the year 2002',\n",
    "    'Y2003': 'Data for the year 2003',\n",
    "    'Y2004': 'Data for the year 2004',\n",
    "    'Y2005': 'Data for the year 2005',\n",
    "    'Y2006': 'Data for the year 2006',\n",
    "    'Y2007': 'Data for the year 2007',\n",
    "    'Y2008': 'Data for the year 2008',\n",
    "    'Y2009': 'Data for the year 2009',\n",
    "    'Y2010': 'Data for the year 2010',\n",
    "    'Y2011': 'Data for the year 2011',\n",
    "    'Y2012': 'Data for the year 2012',\n",
    "    'Y2013': 'Data for the year 2013'\n",
    "}\n",
    "\n",
    "# update the FAO dataframe with the descriptions\n",
    "faodata_dict['Description'] = faodata_dict['Column Name'].map(descriptions_fao).fillna('Description needed')\n",
    "\n",
    "# update descriptions for FAOSTAT data dictionary\n",
    "descriptions_faostat = {\n",
    "    'Domain Code': 'Unique code for the domain or category of data (e.g., agriculture, forestry)',\n",
    "    'Domain': 'Name of the domain or category of data',\n",
    "    'Area Code': 'Unique numerical code assigned to the area (e.g., country, region)',\n",
    "    'Area': 'Name of the area (e.g., country or region)',\n",
    "    'Element Code': 'Unique code for the type of measurement (e.g., production, yield)',\n",
    "    'Element': 'Type of data being measured (e.g., production, yield, consumption)',\n",
    "    'Item Code': 'Unique numerical code assigned to the item (e.g., crop, livestock)',\n",
    "    'Item': 'Name of the item (e.g., wheat, rice)',\n",
    "    'Year Code': 'Unique code for the year of data',\n",
    "    'Year': 'Year of the data',\n",
    "    'Unit': 'Unit of measurement (e.g., tons, hectares)',\n",
    "    'Value': 'Measured value for the specified item, area, and year',\n",
    "    'Flag': 'Indicator of data quality or special conditions (e.g., missing data, estimated values)',\n",
    "    'Flag Description': 'Description of the flag used to denote data quality or special conditions',\n",
    "    'Note': 'Additional notes or comments related to the data entry'\n",
    "}\n",
    "\n",
    "# update the FAOSTAT dataframe with the descriptions\n",
    "faostatdata_dict['Description'] = faostatdata_dict['Column Name'].map(descriptions_faostat).fillna('Description needed')\n",
    "\n",
    "# print updated data dictionaries\n",
    "print(\"Updated FAO Data Dictionary:\\n\", faodata_dict)\n",
    "\n"
   ]
  },
  {
   "cell_type": "code",
   "execution_count": 217,
   "metadata": {},
   "outputs": [
    {
     "name": "stdout",
     "output_type": "stream",
     "text": [
      "\n",
      "Updated FAOSTAT Data Dictionary:\n",
      "                        Column Name Data Type  \\\n",
      "Domain Code            Domain Code    object   \n",
      "Domain                      Domain    object   \n",
      "Area Code                Area Code     int64   \n",
      "Area                          Area    object   \n",
      "Element Code          Element Code     int64   \n",
      "Element                    Element    object   \n",
      "Item Code                Item Code     int64   \n",
      "Item                          Item    object   \n",
      "Year Code                Year Code     int64   \n",
      "Year                          Year     int64   \n",
      "Unit                          Unit    object   \n",
      "Value                        Value   float64   \n",
      "Flag                          Flag    object   \n",
      "Flag Description  Flag Description    object   \n",
      "Note                          Note    object   \n",
      "\n",
      "                                                        Description  \n",
      "Domain Code       Unique code for the domain or category of data...  \n",
      "Domain                       Name of the domain or category of data  \n",
      "Area Code         Unique numerical code assigned to the area (e....  \n",
      "Area                     Name of the area (e.g., country or region)  \n",
      "Element Code      Unique code for the type of measurement (e.g.,...  \n",
      "Element           Type of data being measured (e.g., production,...  \n",
      "Item Code         Unique numerical code assigned to the item (e....  \n",
      "Item                           Name of the item (e.g., wheat, rice)  \n",
      "Year Code                          Unique code for the year of data  \n",
      "Year                                               Year of the data  \n",
      "Unit                     Unit of measurement (e.g., tons, hectares)  \n",
      "Value             Measured value for the specified item, area, a...  \n",
      "Flag              Indicator of data quality or special condition...  \n",
      "Flag Description  Description of the flag used to denote data qu...  \n",
      "Note              Additional notes or comments related to the da...  \n"
     ]
    }
   ],
   "source": [
    "print(\"\\nUpdated FAOSTAT Data Dictionary:\\n\", faostatdata_dict)"
   ]
  },
  {
   "cell_type": "code",
   "execution_count": 218,
   "metadata": {},
   "outputs": [
    {
     "name": "stdout",
     "output_type": "stream",
     "text": [
      "FAO Dataset Missing Values:\n",
      "<class 'pandas.core.frame.DataFrame'>\n",
      "RangeIndex: 21477 entries, 0 to 21476\n",
      "Data columns (total 63 columns):\n",
      " #   Column             Non-Null Count  Dtype  \n",
      "---  ------             --------------  -----  \n",
      " 0   Area Abbreviation  21477 non-null  object \n",
      " 1   Area Code          21477 non-null  int64  \n",
      " 2   Area               21477 non-null  object \n",
      " 3   Item Code          21477 non-null  int64  \n",
      " 4   Item               21477 non-null  object \n",
      " 5   Element Code       21477 non-null  int64  \n",
      " 6   Element            21477 non-null  object \n",
      " 7   Unit               21477 non-null  object \n",
      " 8   latitude           21477 non-null  float64\n",
      " 9   longitude          21477 non-null  float64\n",
      " 10  Y1961              17938 non-null  float64\n",
      " 11  Y1962              17938 non-null  float64\n",
      " 12  Y1963              17938 non-null  float64\n",
      " 13  Y1964              17938 non-null  float64\n",
      " 14  Y1965              17938 non-null  float64\n",
      " 15  Y1966              17938 non-null  float64\n",
      " 16  Y1967              17938 non-null  float64\n",
      " 17  Y1968              17938 non-null  float64\n",
      " 18  Y1969              17938 non-null  float64\n",
      " 19  Y1970              17938 non-null  float64\n",
      " 20  Y1971              17938 non-null  float64\n",
      " 21  Y1972              17938 non-null  float64\n",
      " 22  Y1973              17938 non-null  float64\n",
      " 23  Y1974              17938 non-null  float64\n",
      " 24  Y1975              17938 non-null  float64\n",
      " 25  Y1976              17938 non-null  float64\n",
      " 26  Y1977              17938 non-null  float64\n",
      " 27  Y1978              17938 non-null  float64\n",
      " 28  Y1979              17938 non-null  float64\n",
      " 29  Y1980              17938 non-null  float64\n",
      " 30  Y1981              17938 non-null  float64\n",
      " 31  Y1982              17938 non-null  float64\n",
      " 32  Y1983              17938 non-null  float64\n",
      " 33  Y1984              17938 non-null  float64\n",
      " 34  Y1985              17938 non-null  float64\n",
      " 35  Y1986              17938 non-null  float64\n",
      " 36  Y1987              17938 non-null  float64\n",
      " 37  Y1988              17938 non-null  float64\n",
      " 38  Y1989              17938 non-null  float64\n",
      " 39  Y1990              18062 non-null  float64\n",
      " 40  Y1991              18062 non-null  float64\n",
      " 41  Y1992              20490 non-null  float64\n",
      " 42  Y1993              20865 non-null  float64\n",
      " 43  Y1994              20865 non-null  float64\n",
      " 44  Y1995              20865 non-null  float64\n",
      " 45  Y1996              20865 non-null  float64\n",
      " 46  Y1997              20865 non-null  float64\n",
      " 47  Y1998              20865 non-null  float64\n",
      " 48  Y1999              20865 non-null  float64\n",
      " 49  Y2000              21128 non-null  float64\n",
      " 50  Y2001              21128 non-null  float64\n",
      " 51  Y2002              21128 non-null  float64\n",
      " 52  Y2003              21128 non-null  float64\n",
      " 53  Y2004              21128 non-null  float64\n",
      " 54  Y2005              21128 non-null  float64\n",
      " 55  Y2006              21373 non-null  float64\n",
      " 56  Y2007              21373 non-null  float64\n",
      " 57  Y2008              21373 non-null  float64\n",
      " 58  Y2009              21373 non-null  float64\n",
      " 59  Y2010              21373 non-null  float64\n",
      " 60  Y2011              21373 non-null  float64\n",
      " 61  Y2012              21477 non-null  int64  \n",
      " 62  Y2013              21477 non-null  int64  \n",
      "dtypes: float64(53), int64(5), object(5)\n",
      "memory usage: 10.3+ MB\n"
     ]
    }
   ],
   "source": [
    "# Check for and handle any missing values. Provide a brief explanation of the method you used to handle missing data.\n",
    "\n",
    "# Check for missing values in FAO dataset\n",
    "print(\"FAO Dataset Missing Values:\")\n",
    "fao_df.info()"
   ]
  },
  {
   "cell_type": "code",
   "execution_count": 219,
   "metadata": {},
   "outputs": [
    {
     "name": "stdout",
     "output_type": "stream",
     "text": [
      "\n",
      "FAOSTAT Dataset Missing Values:\n",
      "<class 'pandas.core.frame.DataFrame'>\n",
      "RangeIndex: 231 entries, 0 to 230\n",
      "Data columns (total 15 columns):\n",
      " #   Column            Non-Null Count  Dtype  \n",
      "---  ------            --------------  -----  \n",
      " 0   Domain Code       231 non-null    object \n",
      " 1   Domain            231 non-null    object \n",
      " 2   Area Code         231 non-null    int64  \n",
      " 3   Area              231 non-null    object \n",
      " 4   Element Code      231 non-null    int64  \n",
      " 5   Element           231 non-null    object \n",
      " 6   Item Code         231 non-null    int64  \n",
      " 7   Item              231 non-null    object \n",
      " 8   Year Code         231 non-null    int64  \n",
      " 9   Year              231 non-null    int64  \n",
      " 10  Unit              231 non-null    object \n",
      " 11  Value             231 non-null    float64\n",
      " 12  Flag              231 non-null    object \n",
      " 13  Flag Description  231 non-null    object \n",
      " 14  Note              231 non-null    object \n",
      "dtypes: float64(1), int64(5), object(9)\n",
      "memory usage: 27.2+ KB\n"
     ]
    }
   ],
   "source": [
    "# Check for and handle any missing values. Provide a brief explanation of the method you used to handle missing data.\n",
    "\n",
    "# Check for missing values in FAOSTAT dataset\n",
    "print(\"\\nFAOSTAT Dataset Missing Values:\")\n",
    "faostat_df.info()"
   ]
  },
  {
   "cell_type": "code",
   "execution_count": 220,
   "metadata": {},
   "outputs": [
    {
     "data": {
      "text/plain": [
       "(21477, 63)"
      ]
     },
     "execution_count": 220,
     "metadata": {},
     "output_type": "execute_result"
    }
   ],
   "source": [
    "## only FAO has null values so we will handle that\n",
    "\n",
    "## first drop rows with everything as null\n",
    "fao_df.dropna(how='all').shape"
   ]
  },
  {
   "cell_type": "markdown",
   "metadata": {},
   "source": [
    "Explanation: In this scenario, we need to handle missing values in a time-series dataset. Since the dataset contains various year columns with potential missing values, we will assume that data points for nearby years are likely to be similar. This assumption is based on the idea that values for adjacent years are often correlated, and drastic changes from one year to the next are unlikely.\n",
    "\n",
    "To address missing values, we use the fillna() method from Pandas, which provides strategies to fill these gaps. Specifically, we’ll use two methods:\n",
    "\n",
    "'ffill' (Forward Fill): This method propagates the last valid observation forward to the next missing value. It’s based on the assumption that the data from the previous year is a good estimate for the missing data in the current year. In other words, if a year’s data is missing, it will be filled with the most recent previous year’s value.\n",
    "\n",
    "'bfill' (Backward Fill): This method propagates the next valid observation backward to fill the missing value. It assumes that if a future year’s data is available, it can be used to fill in the missing values for earlier years. This approach fills missing values with the subsequent year’s value if available."
   ]
  },
  {
   "cell_type": "code",
   "execution_count": 221,
   "metadata": {},
   "outputs": [
    {
     "name": "stdout",
     "output_type": "stream",
     "text": [
      "Initial Missing Values Summary:\n",
      "Area Abbreviation      0\n",
      "Area Code              0\n",
      "Area                   0\n",
      "Item Code              0\n",
      "Item                   0\n",
      "                    ... \n",
      "Y2009                104\n",
      "Y2010                104\n",
      "Y2011                104\n",
      "Y2012                  0\n",
      "Y2013                  0\n",
      "Length: 63, dtype: int64\n",
      "Year Columns:\n",
      "['Y1961', 'Y1962', 'Y1963', 'Y1964', 'Y1965', 'Y1966', 'Y1967', 'Y1968', 'Y1969', 'Y1970', 'Y1971', 'Y1972', 'Y1973', 'Y1974', 'Y1975', 'Y1976', 'Y1977', 'Y1978', 'Y1979', 'Y1980', 'Y1981', 'Y1982', 'Y1983', 'Y1984', 'Y1985', 'Y1986', 'Y1987', 'Y1988', 'Y1989', 'Y1990', 'Y1991', 'Y1992', 'Y1993', 'Y1994', 'Y1995', 'Y1996', 'Y1997', 'Y1998', 'Y1999', 'Y2000', 'Y2001', 'Y2002', 'Y2003', 'Y2004', 'Y2005', 'Y2006', 'Y2007', 'Y2008', 'Y2009', 'Y2010', 'Y2011', 'Y2012', 'Y2013']\n",
      "\n",
      "Missing Values After Handling:\n",
      "Area Abbreviation    0\n",
      "Area Code            0\n",
      "Area                 0\n",
      "Item Code            0\n",
      "Item                 0\n",
      "                    ..\n",
      "Y2009                0\n",
      "Y2010                0\n",
      "Y2011                0\n",
      "Y2012                0\n",
      "Y2013                0\n",
      "Length: 63, dtype: int64\n",
      "\n",
      "Sample of Cleaned FAO Data:\n",
      "  Area Abbreviation  Area Code         Area  Item Code  \\\n",
      "0               AFG          2  Afghanistan       2511   \n",
      "1               AFG          2  Afghanistan       2805   \n",
      "2               AFG          2  Afghanistan       2513   \n",
      "3               AFG          2  Afghanistan       2513   \n",
      "4               AFG          2  Afghanistan       2514   \n",
      "\n",
      "                       Item  Element Code Element         Unit  latitude  \\\n",
      "0        Wheat and products          5142    Food  1000 tonnes     33.94   \n",
      "1  Rice (Milled Equivalent)          5142    Food  1000 tonnes     33.94   \n",
      "2       Barley and products          5521    Feed  1000 tonnes     33.94   \n",
      "3       Barley and products          5142    Food  1000 tonnes     33.94   \n",
      "4        Maize and products          5521    Feed  1000 tonnes     33.94   \n",
      "\n",
      "   longitude  ...   Y2004   Y2005   Y2006   Y2007   Y2008   Y2009   Y2010  \\\n",
      "0      67.71  ...  3249.0  3486.0  3704.0  4164.0  4252.0  4538.0  4605.0   \n",
      "1      67.71  ...   419.0   445.0   546.0   455.0   490.0   415.0   442.0   \n",
      "2      67.71  ...    58.0   236.0   262.0   263.0   230.0   379.0   315.0   \n",
      "3      67.71  ...   185.0    43.0    44.0    48.0    62.0    55.0    60.0   \n",
      "4      67.71  ...   120.0   208.0   233.0   249.0   247.0   195.0   178.0   \n",
      "\n",
      "    Y2011   Y2012   Y2013  \n",
      "0  4711.0  4810.0  4895.0  \n",
      "1   476.0   425.0   422.0  \n",
      "2   203.0   367.0   360.0  \n",
      "3    72.0    78.0    89.0  \n",
      "4   191.0   200.0   200.0  \n",
      "\n",
      "[5 rows x 63 columns]\n"
     ]
    },
    {
     "name": "stderr",
     "output_type": "stream",
     "text": [
      "C:\\Users\\Lex Zedrick Lorenzo\\AppData\\Local\\Temp\\ipykernel_28056\\3541634840.py:20: FutureWarning:\n",
      "\n",
      "DataFrame.fillna with 'method' is deprecated and will raise in a future version. Use obj.ffill() or obj.bfill() instead.\n",
      "\n",
      "C:\\Users\\Lex Zedrick Lorenzo\\AppData\\Local\\Temp\\ipykernel_28056\\3541634840.py:23: FutureWarning:\n",
      "\n",
      "DataFrame.fillna with 'method' is deprecated and will raise in a future version. Use obj.ffill() or obj.bfill() instead.\n",
      "\n"
     ]
    }
   ],
   "source": [
    "## dropping rows with everything as null removed nothing, which means only specific columns for each row have null values\n",
    "\n",
    "## based on the observation of the data in FAO, some years start with null values (e.g., years where no data is provided) but later years have data, therefore we cannot simply\n",
    "## delete those rows because the data for later years are still valuable data\n",
    "\n",
    "## to handle the missing values, we perform a forward fill and a backward fill\n",
    "\n",
    "# check for missing values in the FAO dataset\n",
    "print(\"Initial Missing Values Summary:\")\n",
    "print(fao_df.isnull().sum())\n",
    "\n",
    "# Identify year columns (assuming they start with 'Y')\n",
    "year_columns = [col for col in fao_df.columns if col.startswith('Y')]\n",
    "\n",
    "# display the columns identified for year data\n",
    "print(\"Year Columns:\")\n",
    "print(year_columns)\n",
    "\n",
    "# apply forward fill to year columns\n",
    "fao_df[year_columns] = fao_df[year_columns].fillna(method='ffill', axis=1)\n",
    "\n",
    "# apply backward fill to any remaining missing values\n",
    "fao_df[year_columns] = fao_df[year_columns].fillna(method='bfill', axis=1)\n",
    "\n",
    "# verify missing values after handling\n",
    "print(\"\\nMissing Values After Handling:\")\n",
    "print(fao_df.isnull().sum())\n",
    "\n",
    "# print a sample of the cleaned data to verify\n",
    "print(\"\\nSample of Cleaned FAO Data:\")\n",
    "print(fao_df.head())"
   ]
  },
  {
   "cell_type": "code",
   "execution_count": 222,
   "metadata": {},
   "outputs": [
    {
     "name": "stdout",
     "output_type": "stream",
     "text": [
      "<class 'pandas.core.frame.DataFrame'>\n",
      "RangeIndex: 21477 entries, 0 to 21476\n",
      "Data columns (total 63 columns):\n",
      " #   Column             Non-Null Count  Dtype  \n",
      "---  ------             --------------  -----  \n",
      " 0   Area Abbreviation  21477 non-null  object \n",
      " 1   Area Code          21477 non-null  int64  \n",
      " 2   Area               21477 non-null  object \n",
      " 3   Item Code          21477 non-null  int64  \n",
      " 4   Item               21477 non-null  object \n",
      " 5   Element Code       21477 non-null  int64  \n",
      " 6   Element            21477 non-null  object \n",
      " 7   Unit               21477 non-null  object \n",
      " 8   latitude           21477 non-null  float64\n",
      " 9   longitude          21477 non-null  float64\n",
      " 10  Y1961              21477 non-null  float64\n",
      " 11  Y1962              21477 non-null  float64\n",
      " 12  Y1963              21477 non-null  float64\n",
      " 13  Y1964              21477 non-null  float64\n",
      " 14  Y1965              21477 non-null  float64\n",
      " 15  Y1966              21477 non-null  float64\n",
      " 16  Y1967              21477 non-null  float64\n",
      " 17  Y1968              21477 non-null  float64\n",
      " 18  Y1969              21477 non-null  float64\n",
      " 19  Y1970              21477 non-null  float64\n",
      " 20  Y1971              21477 non-null  float64\n",
      " 21  Y1972              21477 non-null  float64\n",
      " 22  Y1973              21477 non-null  float64\n",
      " 23  Y1974              21477 non-null  float64\n",
      " 24  Y1975              21477 non-null  float64\n",
      " 25  Y1976              21477 non-null  float64\n",
      " 26  Y1977              21477 non-null  float64\n",
      " 27  Y1978              21477 non-null  float64\n",
      " 28  Y1979              21477 non-null  float64\n",
      " 29  Y1980              21477 non-null  float64\n",
      " 30  Y1981              21477 non-null  float64\n",
      " 31  Y1982              21477 non-null  float64\n",
      " 32  Y1983              21477 non-null  float64\n",
      " 33  Y1984              21477 non-null  float64\n",
      " 34  Y1985              21477 non-null  float64\n",
      " 35  Y1986              21477 non-null  float64\n",
      " 36  Y1987              21477 non-null  float64\n",
      " 37  Y1988              21477 non-null  float64\n",
      " 38  Y1989              21477 non-null  float64\n",
      " 39  Y1990              21477 non-null  float64\n",
      " 40  Y1991              21477 non-null  float64\n",
      " 41  Y1992              21477 non-null  float64\n",
      " 42  Y1993              21477 non-null  float64\n",
      " 43  Y1994              21477 non-null  float64\n",
      " 44  Y1995              21477 non-null  float64\n",
      " 45  Y1996              21477 non-null  float64\n",
      " 46  Y1997              21477 non-null  float64\n",
      " 47  Y1998              21477 non-null  float64\n",
      " 48  Y1999              21477 non-null  float64\n",
      " 49  Y2000              21477 non-null  float64\n",
      " 50  Y2001              21477 non-null  float64\n",
      " 51  Y2002              21477 non-null  float64\n",
      " 52  Y2003              21477 non-null  float64\n",
      " 53  Y2004              21477 non-null  float64\n",
      " 54  Y2005              21477 non-null  float64\n",
      " 55  Y2006              21477 non-null  float64\n",
      " 56  Y2007              21477 non-null  float64\n",
      " 57  Y2008              21477 non-null  float64\n",
      " 58  Y2009              21477 non-null  float64\n",
      " 59  Y2010              21477 non-null  float64\n",
      " 60  Y2011              21477 non-null  float64\n",
      " 61  Y2012              21477 non-null  float64\n",
      " 62  Y2013              21477 non-null  float64\n",
      "dtypes: float64(55), int64(3), object(5)\n",
      "memory usage: 10.3+ MB\n"
     ]
    }
   ],
   "source": [
    "fao_df.info()"
   ]
  },
  {
   "cell_type": "code",
   "execution_count": 223,
   "metadata": {},
   "outputs": [
    {
     "name": "stdout",
     "output_type": "stream",
     "text": [
      "Initial Duplicate Rows in FAO Dataset: 0\n",
      "Initial Duplicate Rows in FAOSTAT Dataset: 0\n",
      "\n",
      "Duplicate Rows After Cleaning in FAO Dataset: 0\n",
      "Duplicate Rows After Cleaning in FAOSTAT Dataset: 0\n"
     ]
    }
   ],
   "source": [
    "# Removing Duplicatites\n",
    "\n",
    "# Check initial counts of duplicate rows\n",
    "print(\"Initial Duplicate Rows in FAO Dataset:\", fao_df.duplicated().sum())\n",
    "print(\"Initial Duplicate Rows in FAOSTAT Dataset:\", faostat_df.duplicated().sum())\n",
    "\n",
    "# Remove duplicate rows from FAO dataset\n",
    "fao_df_cleaned = fao_df.drop_duplicates()\n",
    "\n",
    "# Remove duplicate rows from FAOSTAT dataset\n",
    "faostat_df_cleaned = faostat_df.drop_duplicates()\n",
    "\n",
    "# Verify that duplicates have been removed\n",
    "print(\"\\nDuplicate Rows After Cleaning in FAO Dataset:\", fao_df_cleaned.duplicated().sum())\n",
    "print(\"Duplicate Rows After Cleaning in FAOSTAT Dataset:\", faostat_df_cleaned.duplicated().sum())\n"
   ]
  },
  {
   "cell_type": "code",
   "execution_count": 224,
   "metadata": {},
   "outputs": [
    {
     "name": "stdout",
     "output_type": "stream",
     "text": [
      "<class 'pandas.core.frame.DataFrame'>\n",
      "RangeIndex: 21477 entries, 0 to 21476\n",
      "Data columns (total 63 columns):\n",
      " #   Column             Non-Null Count  Dtype  \n",
      "---  ------             --------------  -----  \n",
      " 0   Area Abbreviation  21477 non-null  object \n",
      " 1   Area Code          21477 non-null  int64  \n",
      " 2   Area               21477 non-null  object \n",
      " 3   Item Code          21477 non-null  int64  \n",
      " 4   Item               21477 non-null  object \n",
      " 5   Element Code       21477 non-null  int64  \n",
      " 6   Element            21477 non-null  object \n",
      " 7   Unit               21477 non-null  object \n",
      " 8   latitude           21477 non-null  float64\n",
      " 9   longitude          21477 non-null  float64\n",
      " 10  Y1961              21477 non-null  float64\n",
      " 11  Y1962              21477 non-null  float64\n",
      " 12  Y1963              21477 non-null  float64\n",
      " 13  Y1964              21477 non-null  float64\n",
      " 14  Y1965              21477 non-null  float64\n",
      " 15  Y1966              21477 non-null  float64\n",
      " 16  Y1967              21477 non-null  float64\n",
      " 17  Y1968              21477 non-null  float64\n",
      " 18  Y1969              21477 non-null  float64\n",
      " 19  Y1970              21477 non-null  float64\n",
      " 20  Y1971              21477 non-null  float64\n",
      " 21  Y1972              21477 non-null  float64\n",
      " 22  Y1973              21477 non-null  float64\n",
      " 23  Y1974              21477 non-null  float64\n",
      " 24  Y1975              21477 non-null  float64\n",
      " 25  Y1976              21477 non-null  float64\n",
      " 26  Y1977              21477 non-null  float64\n",
      " 27  Y1978              21477 non-null  float64\n",
      " 28  Y1979              21477 non-null  float64\n",
      " 29  Y1980              21477 non-null  float64\n",
      " 30  Y1981              21477 non-null  float64\n",
      " 31  Y1982              21477 non-null  float64\n",
      " 32  Y1983              21477 non-null  float64\n",
      " 33  Y1984              21477 non-null  float64\n",
      " 34  Y1985              21477 non-null  float64\n",
      " 35  Y1986              21477 non-null  float64\n",
      " 36  Y1987              21477 non-null  float64\n",
      " 37  Y1988              21477 non-null  float64\n",
      " 38  Y1989              21477 non-null  float64\n",
      " 39  Y1990              21477 non-null  float64\n",
      " 40  Y1991              21477 non-null  float64\n",
      " 41  Y1992              21477 non-null  float64\n",
      " 42  Y1993              21477 non-null  float64\n",
      " 43  Y1994              21477 non-null  float64\n",
      " 44  Y1995              21477 non-null  float64\n",
      " 45  Y1996              21477 non-null  float64\n",
      " 46  Y1997              21477 non-null  float64\n",
      " 47  Y1998              21477 non-null  float64\n",
      " 48  Y1999              21477 non-null  float64\n",
      " 49  Y2000              21477 non-null  float64\n",
      " 50  Y2001              21477 non-null  float64\n",
      " 51  Y2002              21477 non-null  float64\n",
      " 52  Y2003              21477 non-null  float64\n",
      " 53  Y2004              21477 non-null  float64\n",
      " 54  Y2005              21477 non-null  float64\n",
      " 55  Y2006              21477 non-null  float64\n",
      " 56  Y2007              21477 non-null  float64\n",
      " 57  Y2008              21477 non-null  float64\n",
      " 58  Y2009              21477 non-null  float64\n",
      " 59  Y2010              21477 non-null  float64\n",
      " 60  Y2011              21477 non-null  float64\n",
      " 61  Y2012              21477 non-null  float64\n",
      " 62  Y2013              21477 non-null  float64\n",
      "dtypes: float64(55), int64(3), object(5)\n",
      "memory usage: 10.3+ MB\n"
     ]
    }
   ],
   "source": [
    "fao_df_cleaned.info()"
   ]
  },
  {
   "cell_type": "code",
   "execution_count": 225,
   "metadata": {},
   "outputs": [
    {
     "name": "stdout",
     "output_type": "stream",
     "text": [
      "<class 'pandas.core.frame.DataFrame'>\n",
      "RangeIndex: 231 entries, 0 to 230\n",
      "Data columns (total 15 columns):\n",
      " #   Column            Non-Null Count  Dtype  \n",
      "---  ------            --------------  -----  \n",
      " 0   Domain Code       231 non-null    object \n",
      " 1   Domain            231 non-null    object \n",
      " 2   Area Code         231 non-null    int64  \n",
      " 3   Area              231 non-null    object \n",
      " 4   Element Code      231 non-null    int64  \n",
      " 5   Element           231 non-null    object \n",
      " 6   Item Code         231 non-null    int64  \n",
      " 7   Item              231 non-null    object \n",
      " 8   Year Code         231 non-null    int64  \n",
      " 9   Year              231 non-null    int64  \n",
      " 10  Unit              231 non-null    object \n",
      " 11  Value             231 non-null    float64\n",
      " 12  Flag              231 non-null    object \n",
      " 13  Flag Description  231 non-null    object \n",
      " 14  Note              231 non-null    object \n",
      "dtypes: float64(1), int64(5), object(9)\n",
      "memory usage: 27.2+ KB\n"
     ]
    }
   ],
   "source": [
    "faostat_df_cleaned.info()"
   ]
  },
  {
   "cell_type": "code",
   "execution_count": 226,
   "metadata": {},
   "outputs": [
    {
     "name": "stdout",
     "output_type": "stream",
     "text": [
      "Updated FAO Columns: Index(['AREA_ABBREVIATION', 'AREA_CODE', 'AREA', 'ITEM_CODE', 'ITEM',\n",
      "       'ELEMENT_CODE', 'ELEMENT', 'UNIT', 'LATITUDE', 'LONGITUDE', 'Y1961',\n",
      "       'Y1962', 'Y1963', 'Y1964', 'Y1965', 'Y1966', 'Y1967', 'Y1968', 'Y1969',\n",
      "       'Y1970', 'Y1971', 'Y1972', 'Y1973', 'Y1974', 'Y1975', 'Y1976', 'Y1977',\n",
      "       'Y1978', 'Y1979', 'Y1980', 'Y1981', 'Y1982', 'Y1983', 'Y1984', 'Y1985',\n",
      "       'Y1986', 'Y1987', 'Y1988', 'Y1989', 'Y1990', 'Y1991', 'Y1992', 'Y1993',\n",
      "       'Y1994', 'Y1995', 'Y1996', 'Y1997', 'Y1998', 'Y1999', 'Y2000', 'Y2001',\n",
      "       'Y2002', 'Y2003', 'Y2004', 'Y2005', 'Y2006', 'Y2007', 'Y2008', 'Y2009',\n",
      "       'Y2010', 'Y2011', 'Y2012', 'Y2013'],\n",
      "      dtype='object')\n",
      "Updated FAOSTAT Columns: Index(['DOMAIN_CODE', 'DOMAIN', 'AREA_CODE', 'AREA', 'ELEMENT_CODE', 'ELEMENT',\n",
      "       'ITEM_CODE', 'ITEM', 'YEAR_CODE', 'YEAR', 'UNIT', 'VALUE', 'FLAG',\n",
      "       'FLAG_DESCRIPTION', 'NOTE'],\n",
      "      dtype='object')\n"
     ]
    }
   ],
   "source": [
    "# Standardize column names to ensure consistency between both datasets.\n",
    "\n",
    "# Change column names to uppercase\n",
    "fao_df_cleaned.columns = fao_df_cleaned.columns.str.upper()\n",
    "faostat_df_cleaned.columns = faostat_df_cleaned.columns.str.upper()\n",
    "\n",
    "# Change column with spaces replaced with underscores _\n",
    "fao_df_cleaned.columns = fao_df_cleaned.columns.str.replace(' ', '_')\n",
    "faostat_df_cleaned.columns = faostat_df_cleaned.columns.str.replace(' ', '_')\n",
    "\n",
    "# Display updated column names for verification\n",
    "print(\"Updated FAO Columns:\", fao_df_cleaned.columns)\n",
    "print(\"Updated FAOSTAT Columns:\", faostat_df_cleaned.columns)\n",
    "\n"
   ]
  },
  {
   "cell_type": "markdown",
   "metadata": {},
   "source": [
    "2. Data Merging:\n",
    "- Merge the two datasets using a relevant key (e.g., Country, Year, or any other common column). Justify your choice of the merging key(s).\n",
    "- Create a new DataFrame with the merged data. Ensure the merged DataFrame contains only the columns necessary for analysis."
   ]
  },
  {
   "cell_type": "code",
   "execution_count": 227,
   "metadata": {},
   "outputs": [
    {
     "name": "stdout",
     "output_type": "stream",
     "text": [
      "<class 'pandas.core.frame.DataFrame'>\n",
      "RangeIndex: 1138512 entries, 0 to 1138511\n",
      "Data columns (total 6 columns):\n",
      " #   Column            Non-Null Count    Dtype  \n",
      "---  ------            --------------    -----  \n",
      " 0   AREA              1138512 non-null  object \n",
      " 1   YEAR              1138512 non-null  int64  \n",
      " 2   ITEM              1138512 non-null  object \n",
      " 3   ELEMENT           1138512 non-null  object \n",
      " 4   PRODUCTION_VALUE  1138281 non-null  float64\n",
      " 5   POPULATION_VALUE  231 non-null      float64\n",
      "dtypes: float64(2), int64(1), object(3)\n",
      "memory usage: 52.1+ MB\n"
     ]
    }
   ],
   "source": [
    "# Merge the two datasets using a relevant key (e.g., Country, Year, or any other common column). Justify your choice of the merging key(s).\n",
    "# Create a new DataFrame with the merged data. Ensure the merged DataFrame contains only the columns necessary for analysis.\n",
    "\n",
    "# transform FAO data - melt the year columns into rows\n",
    "# compile all column names for years\n",
    "year_columns = [col for col in fao_df.columns if col.startswith('Y')]\n",
    "\n",
    "# perform the melt operation\n",
    "fao_melted_df = pd.melt(fao_df_cleaned, id_vars=['AREA_CODE', 'AREA', 'ITEM_CODE', 'ELEMENT_CODE', 'ITEM', 'ELEMENT'], \n",
    "                        value_vars=year_columns, var_name='YEAR', value_name='PRODUCTION_VALUE')\n",
    "\n",
    "# clean the 'Year' column (remove the 'Y' prefix and convert to int)\n",
    "fao_melted_df['YEAR'] = fao_melted_df['YEAR'].str[1:].astype(int)\n",
    "\n",
    "# Merge the transformed FAO data with FAOSTAT data on relevant columns\n",
    "merged_df = pd.merge(fao_melted_df, faostat_df_cleaned, on=['AREA_CODE', 'AREA', 'ELEMENT_CODE', 'ITEM_CODE', 'ITEM', 'ELEMENT', 'YEAR'], how='outer')\n",
    "\n",
    "# select only the necessary columns for analysis\n",
    "columns_to_keep = ['AREA', 'YEAR', 'ITEM', 'ELEMENT', 'PRODUCTION_VALUE', 'VALUE']  # Adjust as needed\n",
    "merged_df = merged_df[columns_to_keep]\n",
    "\n",
    "# rename value column to match PRODUCTION_VALUE \n",
    "merged_df.rename(columns={'VALUE': 'POPULATION_VALUE'}, inplace=True)\n",
    "\n",
    "merged_df.info()\n"
   ]
  },
  {
   "cell_type": "code",
   "execution_count": 228,
   "metadata": {},
   "outputs": [
    {
     "data": {
      "text/html": [
       "<div>\n",
       "<style scoped>\n",
       "    .dataframe tbody tr th:only-of-type {\n",
       "        vertical-align: middle;\n",
       "    }\n",
       "\n",
       "    .dataframe tbody tr th {\n",
       "        vertical-align: top;\n",
       "    }\n",
       "\n",
       "    .dataframe thead th {\n",
       "        text-align: right;\n",
       "    }\n",
       "</style>\n",
       "<table border=\"1\" class=\"dataframe\">\n",
       "  <thead>\n",
       "    <tr style=\"text-align: right;\">\n",
       "      <th></th>\n",
       "      <th>AREA</th>\n",
       "      <th>YEAR</th>\n",
       "      <th>ITEM</th>\n",
       "      <th>ELEMENT</th>\n",
       "      <th>PRODUCTION_VALUE</th>\n",
       "      <th>POPULATION_VALUE</th>\n",
       "    </tr>\n",
       "  </thead>\n",
       "  <tbody>\n",
       "    <tr>\n",
       "      <th>0</th>\n",
       "      <td>Afghanistan</td>\n",
       "      <td>1961</td>\n",
       "      <td>Wheat and products</td>\n",
       "      <td>Food</td>\n",
       "      <td>1928.0</td>\n",
       "      <td>NaN</td>\n",
       "    </tr>\n",
       "    <tr>\n",
       "      <th>1</th>\n",
       "      <td>Afghanistan</td>\n",
       "      <td>1961</td>\n",
       "      <td>Rice (Milled Equivalent)</td>\n",
       "      <td>Food</td>\n",
       "      <td>183.0</td>\n",
       "      <td>NaN</td>\n",
       "    </tr>\n",
       "    <tr>\n",
       "      <th>2</th>\n",
       "      <td>Afghanistan</td>\n",
       "      <td>1961</td>\n",
       "      <td>Barley and products</td>\n",
       "      <td>Feed</td>\n",
       "      <td>76.0</td>\n",
       "      <td>NaN</td>\n",
       "    </tr>\n",
       "    <tr>\n",
       "      <th>3</th>\n",
       "      <td>Afghanistan</td>\n",
       "      <td>1961</td>\n",
       "      <td>Barley and products</td>\n",
       "      <td>Food</td>\n",
       "      <td>237.0</td>\n",
       "      <td>NaN</td>\n",
       "    </tr>\n",
       "    <tr>\n",
       "      <th>4</th>\n",
       "      <td>Afghanistan</td>\n",
       "      <td>1961</td>\n",
       "      <td>Maize and products</td>\n",
       "      <td>Feed</td>\n",
       "      <td>210.0</td>\n",
       "      <td>NaN</td>\n",
       "    </tr>\n",
       "  </tbody>\n",
       "</table>\n",
       "</div>"
      ],
      "text/plain": [
       "          AREA  YEAR                      ITEM ELEMENT  PRODUCTION_VALUE  \\\n",
       "0  Afghanistan  1961        Wheat and products    Food            1928.0   \n",
       "1  Afghanistan  1961  Rice (Milled Equivalent)    Food             183.0   \n",
       "2  Afghanistan  1961       Barley and products    Feed              76.0   \n",
       "3  Afghanistan  1961       Barley and products    Food             237.0   \n",
       "4  Afghanistan  1961        Maize and products    Feed             210.0   \n",
       "\n",
       "   POPULATION_VALUE  \n",
       "0               NaN  \n",
       "1               NaN  \n",
       "2               NaN  \n",
       "3               NaN  \n",
       "4               NaN  "
      ]
     },
     "execution_count": 228,
     "metadata": {},
     "output_type": "execute_result"
    }
   ],
   "source": [
    "# NaN values will be kept, since some rows do not necessarily reflect PRODUCTION and POPULATION\n",
    "# filling them with other values (such as '0' or 'N/A') may lead to confusion\n",
    "merged_df.head()"
   ]
  },
  {
   "cell_type": "markdown",
   "metadata": {},
   "source": [
    "3. Feature Engineering:\n",
    "- Create at least two new columns based on the existing data. For example, you could calculate the per capita values or growth rates. Clearly explain the rationale behind these new features."
   ]
  },
  {
   "cell_type": "code",
   "execution_count": 229,
   "metadata": {},
   "outputs": [],
   "source": [
    "# Define the mapping of countries to continents\n",
    "country_to_continent = {\n",
    "    'Afghanistan': 'Asia',\n",
    "    'Albania': 'Europe',\n",
    "    'Algeria': 'Africa',\n",
    "    'Angola': 'Africa',\n",
    "    'Antigua and Barbuda': 'North America',\n",
    "    'Argentina': 'South America',\n",
    "    'Armenia': 'Asia',\n",
    "    'Australia': 'Oceania',\n",
    "    'Austria': 'Europe',\n",
    "    'Azerbaijan': 'Asia',\n",
    "    'Bahamas': 'North America',\n",
    "    'Bangladesh': 'Asia',\n",
    "    'Barbados': 'North America',\n",
    "    'Belarus': 'Europe',\n",
    "    'Belgium': 'Europe',\n",
    "    'Belize': 'North America',\n",
    "    'Benin': 'Africa',\n",
    "    'Bermuda': 'North America',\n",
    "    'Bolivia (Plurinational State of)': 'South America',\n",
    "    'Bosnia and Herzegovina': 'Europe',\n",
    "    'Botswana': 'Africa',\n",
    "    'Brazil': 'South America',\n",
    "    'Brunei Darussalam': 'Asia',\n",
    "    'Bulgaria': 'Europe',\n",
    "    'Burkina Faso': 'Africa',\n",
    "    'Cabo Verde': 'Africa',\n",
    "    'Cambodia': 'Asia',\n",
    "    'Cameroon': 'Africa',\n",
    "    'Canada': 'North America',\n",
    "    'Central African Republic': 'Africa',\n",
    "    'Chad': 'Africa',\n",
    "    'Chile': 'South America',\n",
    "    'China, Hong Kong SAR': 'Asia',\n",
    "    'China, Macao SAR': 'Asia',\n",
    "    'China, mainland': 'Asia',\n",
    "    'China, Taiwan Province of': 'Asia',\n",
    "    'Colombia': 'South America',\n",
    "    'Congo': 'Africa',\n",
    "    'Costa Rica': 'North America',\n",
    "    'Côte d\\'Ivoire': 'Africa',\n",
    "    'Croatia': 'Europe',\n",
    "    'Cuba': 'North America',\n",
    "    'Cyprus': 'Asia',\n",
    "    'Czechia': 'Europe',\n",
    "    'Democratic People\\'s Republic of Korea': 'Asia',\n",
    "    'Denmark': 'Europe',\n",
    "    'Djibouti': 'Africa',\n",
    "    'Dominica': 'North America',\n",
    "    'Dominican Republic': 'North America',\n",
    "    'Ecuador': 'South America',\n",
    "    'Egypt': 'Africa',\n",
    "    'El Salvador': 'North America',\n",
    "    'Estonia': 'Europe',\n",
    "    'Ethiopia': 'Africa',\n",
    "    'Fiji': 'Oceania',\n",
    "    'Finland': 'Europe',\n",
    "    'France': 'Europe',\n",
    "    'French Polynesia': 'Oceania',\n",
    "    'Gabon': 'Africa',\n",
    "    'Gambia': 'Africa',\n",
    "    'Georgia': 'Asia',\n",
    "    'Germany': 'Europe',\n",
    "    'Ghana': 'Africa',\n",
    "    'Greece': 'Europe',\n",
    "    'Grenada': 'North America',\n",
    "    'Guatemala': 'North America',\n",
    "    'Guinea': 'Africa',\n",
    "    'Guinea-Bissau': 'Africa',\n",
    "    'Guyana': 'South America',\n",
    "    'Haiti': 'North America',\n",
    "    'Honduras': 'North America',\n",
    "    'Hungary': 'Europe',\n",
    "    'Iceland': 'Europe',\n",
    "    'India': 'Asia',\n",
    "    'Indonesia': 'Asia',\n",
    "    'Iran (Islamic Republic of)': 'Asia',\n",
    "    'Iraq': 'Asia',\n",
    "    'Ireland': 'Europe',\n",
    "    'Israel': 'Asia',\n",
    "    'Italy': 'Europe',\n",
    "    'Jamaica': 'North America',\n",
    "    'Japan': 'Asia',\n",
    "    'Jordan': 'Asia',\n",
    "    'Kazakhstan': 'Asia',\n",
    "    'Kenya': 'Africa',\n",
    "    'Kiribati': 'Oceania',\n",
    "    'Kuwait': 'Asia',\n",
    "    'Kyrgyzstan': 'Asia',\n",
    "    'Lao People\\'s Democratic Republic': 'Asia',\n",
    "    'Latvia': 'Europe',\n",
    "    'Lebanon': 'Asia',\n",
    "    'Lesotho': 'Africa',\n",
    "    'Liberia': 'Africa',\n",
    "    'Lithuania': 'Europe',\n",
    "    'Luxembourg': 'Europe',\n",
    "    'Madagascar': 'Africa',\n",
    "    'Malawi': 'Africa',\n",
    "    'Malaysia': 'Asia',\n",
    "    'Maldives': 'Asia',\n",
    "    'Mali': 'Africa',\n",
    "    'Malta': 'Europe',\n",
    "    'Mauritania': 'Africa',\n",
    "    'Mauritius': 'Africa',\n",
    "    'Mexico': 'North America',\n",
    "    'Mongolia': 'Asia',\n",
    "    'Montenegro': 'Europe',\n",
    "    'Morocco': 'Africa',\n",
    "    'Mozambique': 'Africa',\n",
    "    'Myanmar': 'Asia',\n",
    "    'Namibia': 'Africa',\n",
    "    'Nepal': 'Asia',\n",
    "    'Netherlands': 'Europe',\n",
    "    'New Caledonia': 'Oceania',\n",
    "    'New Zealand': 'Oceania',\n",
    "    'Nicaragua': 'North America',\n",
    "    'Niger': 'Africa',\n",
    "    'Nigeria': 'Africa',\n",
    "    'Norway': 'Europe',\n",
    "    'Oman': 'Asia',\n",
    "    'Pakistan': 'Asia',\n",
    "    'Panama': 'North America',\n",
    "    'Paraguay': 'South America',\n",
    "    'Peru': 'South America',\n",
    "    'Philippines': 'Asia',\n",
    "    'Poland': 'Europe',\n",
    "    'Portugal': 'Europe',\n",
    "    'Republic of Korea': 'Asia',\n",
    "    'Republic of Moldova': 'Europe',\n",
    "    'Romania': 'Europe',\n",
    "    'Russian Federation': 'Europe',\n",
    "    'Rwanda': 'Africa',\n",
    "    'Saint Kitts and Nevis': 'North America',\n",
    "    'Saint Lucia': 'North America',\n",
    "    'Saint Vincent and the Grenadines': 'North America',\n",
    "    'Samoa': 'Oceania',\n",
    "    'Sao Tome and Principe': 'Africa',\n",
    "    'Saudi Arabia': 'Asia',\n",
    "    'Senegal': 'Africa',\n",
    "    'Serbia': 'Europe',\n",
    "    'Sierra Leone': 'Africa',\n",
    "    'Slovakia': 'Europe',\n",
    "    'Slovenia': 'Europe',\n",
    "    'Solomon Islands': 'Oceania',\n",
    "    'South Africa': 'Africa',\n",
    "    'Spain': 'Europe',\n",
    "    'Sri Lanka': 'Asia',\n",
    "    'Sudan': 'Africa',\n",
    "    'Suriname': 'South America',\n",
    "    'Swaziland': 'Africa',\n",
    "    'Sweden': 'Europe',\n",
    "    'Switzerland': 'Europe',\n",
    "    'Tajikistan': 'Asia',\n",
    "    'Thailand': 'Asia',\n",
    "    'The former Yugoslav Republic of Macedonia': 'Europe',\n",
    "    'Timor-Leste': 'Asia',\n",
    "    'Togo': 'Africa',\n",
    "    'Trinidad and Tobago': 'North America',\n",
    "    'Tunisia': 'Africa',\n",
    "    'Turkey': 'Asia',\n",
    "    'Turkmenistan': 'Asia',\n",
    "    'Uganda': 'Africa',\n",
    "    'Ukraine': 'Europe',\n",
    "    'United Arab Emirates': 'Asia',\n",
    "    'United Kingdom': 'Europe',\n",
    "    'United Republic of Tanzania': 'Africa',\n",
    "    'United States of America': 'North America',\n",
    "    'Uruguay': 'South America',\n",
    "    'Uzbekistan': 'Asia',\n",
    "    'Vanuatu': 'Oceania',\n",
    "    'Venezuela (Bolivarian Republic of)': 'South America',\n",
    "    'Viet Nam': 'Asia',\n",
    "    'Yemen': 'Asia',\n",
    "    'Zambia': 'Africa',\n",
    "    'Zimbabwe': 'Africa',\n",
    "    'American Samoa': 'Oceania',\n",
    "    'Andorra': 'Europe',\n",
    "    'Anguilla': 'North America',\n",
    "    'Aruba': 'North America',\n",
    "    'Bahrain': 'Asia',\n",
    "    'Bhutan': 'Asia',\n",
    "    'British Virgin Islands': 'North America',\n",
    "    'Burundi': 'Africa',\n",
    "    'Cayman Islands': 'North America',\n",
    "    'Channel Islands': 'Europe',\n",
    "    'China': 'Asia',\n",
    "    'Comoros': 'Africa',\n",
    "    'Cook Islands': 'Oceania',\n",
    "    \"CÃ´te d'Ivoire\": 'Africa',\n",
    "    'Democratic Republic of the Congo': 'Africa',\n",
    "    'Equatorial Guinea': 'Africa',\n",
    "    'Eritrea': 'Africa',\n",
    "    'Eswatini': 'Africa',\n",
    "    'Falkland Islands (Malvinas)': 'South America',\n",
    "    'Faroe Islands': 'Europe',\n",
    "    'French Guiana': 'South America',\n",
    "    'Gibraltar': 'Europe',\n",
    "    'Greenland': 'North America',\n",
    "    'Guadeloupe': 'North America',\n",
    "    'Guam': 'Oceania',\n",
    "    'Holy See': 'Europe',\n",
    "    'Isle of Man': 'Europe',\n",
    "    'Libya': 'Africa',\n",
    "    'Liechtenstein': 'Europe',\n",
    "    'Marshall Islands': 'Oceania',\n",
    "    'Martinique': 'North America',\n",
    "    'Mayotte': 'Africa',\n",
    "    'Micronesia (Federated States of)': 'Oceania',\n",
    "    'Monaco': 'Europe',\n",
    "    'Montserrat': 'North America',\n",
    "    'Nauru': 'Oceania',\n",
    "    'Niue': 'Oceania',\n",
    "    'North Macedonia': 'Europe',\n",
    "    'Northern Mariana Islands': 'Oceania',\n",
    "    'Palau': 'Oceania',\n",
    "    'Palestine': 'Asia',\n",
    "    'Papua New Guinea': 'Oceania',\n",
    "    'Puerto Rico': 'North America',\n",
    "    'Qatar': 'Asia',\n",
    "    'RÃ©union': 'Africa',\n",
    "    'Saint Helena, Ascension and Tristan da Cunha': 'Africa',\n",
    "    'Saint Pierre and Miquelon': 'North America',\n",
    "    'San Marino': 'Europe',\n",
    "    'Seychelles': 'Africa',\n",
    "    'Singapore': 'Asia',\n",
    "    'Somalia': 'Africa',\n",
    "    'South Sudan': 'Africa',\n",
    "    'Syrian Arab Republic': 'Asia',\n",
    "    'Tokelau': 'Oceania',\n",
    "    'Tonga': 'Oceania',\n",
    "    'Turks and Caicos Islands': 'North America',\n",
    "    'Tuvalu': 'Oceania',\n",
    "    'United States Virgin Islands': 'North America',\n",
    "    'Wallis and Futuna Islands': 'Oceania',\n",
    "    'Western Sahara': 'Africa'\n",
    "}\n",
    "\n",
    "\n",
    "# Add the new 'CONTINENT' column to the dataset\n",
    "merged_df['CONTINENT'] = merged_df['AREA'].map(country_to_continent)\n"
   ]
  },
  {
   "cell_type": "code",
   "execution_count": 230,
   "metadata": {},
   "outputs": [
    {
     "name": "stderr",
     "output_type": "stream",
     "text": [
      "C:\\Users\\Lex Zedrick Lorenzo\\AppData\\Local\\Temp\\ipykernel_28056\\2193812590.py:4: FutureWarning:\n",
      "\n",
      "The default fill_method='ffill' in SeriesGroupBy.pct_change is deprecated and will be removed in a future version. Either fill in any non-leading NA values prior to calling pct_change or specify 'fill_method=None' to not fill NA values.\n",
      "\n"
     ]
    }
   ],
   "source": [
    "# Feature 2: Production Growth\n",
    "\n",
    "merged_df.sort_values(by=['AREA', 'YEAR'], inplace=True)\n",
    "merged_df['PRODUCTION_GROWTH'] = merged_df.groupby('AREA')['PRODUCTION_VALUE'].pct_change()\n"
   ]
  },
  {
   "cell_type": "code",
   "execution_count": 231,
   "metadata": {},
   "outputs": [
    {
     "data": {
      "text/html": [
       "<div>\n",
       "<style scoped>\n",
       "    .dataframe tbody tr th:only-of-type {\n",
       "        vertical-align: middle;\n",
       "    }\n",
       "\n",
       "    .dataframe tbody tr th {\n",
       "        vertical-align: top;\n",
       "    }\n",
       "\n",
       "    .dataframe thead th {\n",
       "        text-align: right;\n",
       "    }\n",
       "</style>\n",
       "<table border=\"1\" class=\"dataframe\">\n",
       "  <thead>\n",
       "    <tr style=\"text-align: right;\">\n",
       "      <th></th>\n",
       "      <th>AREA</th>\n",
       "      <th>YEAR</th>\n",
       "      <th>ITEM</th>\n",
       "      <th>ELEMENT</th>\n",
       "      <th>PRODUCTION_VALUE</th>\n",
       "      <th>POPULATION_VALUE</th>\n",
       "      <th>CONTINENT</th>\n",
       "      <th>PRODUCTION_GROWTH</th>\n",
       "    </tr>\n",
       "  </thead>\n",
       "  <tbody>\n",
       "    <tr>\n",
       "      <th>0</th>\n",
       "      <td>Afghanistan</td>\n",
       "      <td>1961</td>\n",
       "      <td>Wheat and products</td>\n",
       "      <td>Food</td>\n",
       "      <td>1928.0</td>\n",
       "      <td>NaN</td>\n",
       "      <td>Asia</td>\n",
       "      <td>NaN</td>\n",
       "    </tr>\n",
       "    <tr>\n",
       "      <th>1</th>\n",
       "      <td>Afghanistan</td>\n",
       "      <td>1961</td>\n",
       "      <td>Rice (Milled Equivalent)</td>\n",
       "      <td>Food</td>\n",
       "      <td>183.0</td>\n",
       "      <td>NaN</td>\n",
       "      <td>Asia</td>\n",
       "      <td>-0.905083</td>\n",
       "    </tr>\n",
       "    <tr>\n",
       "      <th>2</th>\n",
       "      <td>Afghanistan</td>\n",
       "      <td>1961</td>\n",
       "      <td>Barley and products</td>\n",
       "      <td>Feed</td>\n",
       "      <td>76.0</td>\n",
       "      <td>NaN</td>\n",
       "      <td>Asia</td>\n",
       "      <td>-0.584699</td>\n",
       "    </tr>\n",
       "    <tr>\n",
       "      <th>3</th>\n",
       "      <td>Afghanistan</td>\n",
       "      <td>1961</td>\n",
       "      <td>Barley and products</td>\n",
       "      <td>Food</td>\n",
       "      <td>237.0</td>\n",
       "      <td>NaN</td>\n",
       "      <td>Asia</td>\n",
       "      <td>2.118421</td>\n",
       "    </tr>\n",
       "    <tr>\n",
       "      <th>4</th>\n",
       "      <td>Afghanistan</td>\n",
       "      <td>1961</td>\n",
       "      <td>Maize and products</td>\n",
       "      <td>Feed</td>\n",
       "      <td>210.0</td>\n",
       "      <td>NaN</td>\n",
       "      <td>Asia</td>\n",
       "      <td>-0.113924</td>\n",
       "    </tr>\n",
       "    <tr>\n",
       "      <th>...</th>\n",
       "      <td>...</td>\n",
       "      <td>...</td>\n",
       "      <td>...</td>\n",
       "      <td>...</td>\n",
       "      <td>...</td>\n",
       "      <td>...</td>\n",
       "      <td>...</td>\n",
       "      <td>...</td>\n",
       "    </tr>\n",
       "    <tr>\n",
       "      <th>1116883</th>\n",
       "      <td>Afghanistan</td>\n",
       "      <td>2013</td>\n",
       "      <td>Milk - Excluding Butter</td>\n",
       "      <td>Feed</td>\n",
       "      <td>123.0</td>\n",
       "      <td>NaN</td>\n",
       "      <td>Asia</td>\n",
       "      <td>2.075000</td>\n",
       "    </tr>\n",
       "    <tr>\n",
       "      <th>1116884</th>\n",
       "      <td>Afghanistan</td>\n",
       "      <td>2013</td>\n",
       "      <td>Milk - Excluding Butter</td>\n",
       "      <td>Food</td>\n",
       "      <td>1901.0</td>\n",
       "      <td>NaN</td>\n",
       "      <td>Asia</td>\n",
       "      <td>14.455285</td>\n",
       "    </tr>\n",
       "    <tr>\n",
       "      <th>1116885</th>\n",
       "      <td>Afghanistan</td>\n",
       "      <td>2013</td>\n",
       "      <td>Fish, Seafood</td>\n",
       "      <td>Food</td>\n",
       "      <td>2.0</td>\n",
       "      <td>NaN</td>\n",
       "      <td>Asia</td>\n",
       "      <td>-0.998948</td>\n",
       "    </tr>\n",
       "    <tr>\n",
       "      <th>1116886</th>\n",
       "      <td>Afghanistan</td>\n",
       "      <td>2013</td>\n",
       "      <td>Miscellaneous</td>\n",
       "      <td>Food</td>\n",
       "      <td>2.0</td>\n",
       "      <td>NaN</td>\n",
       "      <td>Asia</td>\n",
       "      <td>0.000000</td>\n",
       "    </tr>\n",
       "    <tr>\n",
       "      <th>1138281</th>\n",
       "      <td>Afghanistan</td>\n",
       "      <td>2017</td>\n",
       "      <td>Population - Est. &amp; Proj.</td>\n",
       "      <td>Total Population - Both sexes</td>\n",
       "      <td>NaN</td>\n",
       "      <td>35530.081</td>\n",
       "      <td>Asia</td>\n",
       "      <td>0.000000</td>\n",
       "    </tr>\n",
       "  </tbody>\n",
       "</table>\n",
       "<p>4400 rows × 8 columns</p>\n",
       "</div>"
      ],
      "text/plain": [
       "                AREA  YEAR                       ITEM  \\\n",
       "0        Afghanistan  1961         Wheat and products   \n",
       "1        Afghanistan  1961   Rice (Milled Equivalent)   \n",
       "2        Afghanistan  1961        Barley and products   \n",
       "3        Afghanistan  1961        Barley and products   \n",
       "4        Afghanistan  1961         Maize and products   \n",
       "...              ...   ...                        ...   \n",
       "1116883  Afghanistan  2013    Milk - Excluding Butter   \n",
       "1116884  Afghanistan  2013    Milk - Excluding Butter   \n",
       "1116885  Afghanistan  2013              Fish, Seafood   \n",
       "1116886  Afghanistan  2013              Miscellaneous   \n",
       "1138281  Afghanistan  2017  Population - Est. & Proj.   \n",
       "\n",
       "                               ELEMENT  PRODUCTION_VALUE  POPULATION_VALUE  \\\n",
       "0                                 Food            1928.0               NaN   \n",
       "1                                 Food             183.0               NaN   \n",
       "2                                 Feed              76.0               NaN   \n",
       "3                                 Food             237.0               NaN   \n",
       "4                                 Feed             210.0               NaN   \n",
       "...                                ...               ...               ...   \n",
       "1116883                           Feed             123.0               NaN   \n",
       "1116884                           Food            1901.0               NaN   \n",
       "1116885                           Food               2.0               NaN   \n",
       "1116886                           Food               2.0               NaN   \n",
       "1138281  Total Population - Both sexes               NaN         35530.081   \n",
       "\n",
       "        CONTINENT  PRODUCTION_GROWTH  \n",
       "0            Asia                NaN  \n",
       "1            Asia          -0.905083  \n",
       "2            Asia          -0.584699  \n",
       "3            Asia           2.118421  \n",
       "4            Asia          -0.113924  \n",
       "...           ...                ...  \n",
       "1116883      Asia           2.075000  \n",
       "1116884      Asia          14.455285  \n",
       "1116885      Asia          -0.998948  \n",
       "1116886      Asia           0.000000  \n",
       "1138281      Asia           0.000000  \n",
       "\n",
       "[4400 rows x 8 columns]"
      ]
     },
     "execution_count": 231,
     "metadata": {},
     "output_type": "execute_result"
    }
   ],
   "source": [
    "temp = merged_df[merged_df['AREA'] == 'Afghanistan']\n",
    "temp"
   ]
  },
  {
   "cell_type": "markdown",
   "metadata": {},
   "source": [
    "# Task 2: Data Exploration"
   ]
  },
  {
   "cell_type": "markdown",
   "metadata": {},
   "source": [
    "1. Descriptive Statistics:\n",
    "    - Provide summary statistics for key variables of interest (mean, median, standard deviation, etc.).\n",
    "    - Identify and discuss any significant patterns or outliers in the data."
   ]
  },
  {
   "cell_type": "code",
   "execution_count": 232,
   "metadata": {},
   "outputs": [],
   "source": [
    "# Provide summary statistics for key variables of interest (mean, median, standard deviation, etc.).\n",
    "# Identify and discuss any significant patterns or outliers in the data."
   ]
  },
  {
   "cell_type": "markdown",
   "metadata": {},
   "source": [
    "2. Group-Based Analysis:\n",
    "\n",
    "    - Perform a group-by operation based on a relevant categorical variable (e.g., Year, Country, or Region).\n",
    "    - Analyze the aggregated data to identify trends over time or differences between groups. Visualize your findings using appropriate plots."
   ]
  },
  {
   "cell_type": "code",
   "execution_count": 233,
   "metadata": {},
   "outputs": [],
   "source": [
    "# Perform a group-by operation based on a relevant categorical variable (e.g., Year, Country, or Region).\n",
    "# Analyze the aggregated data to identify trends over time or differences between groups. Visualize your findings using appropriate plots."
   ]
  },
  {
   "cell_type": "markdown",
   "metadata": {},
   "source": [
    "3. Correlation Analysis:\n",
    "    - Compute the correlation matrix for the numerical variables in your dataset.\n",
    "    - Identify and discuss any strong correlations. Use a heatmap to visualize the correlation matrix."
   ]
  },
  {
   "cell_type": "code",
   "execution_count": 234,
   "metadata": {},
   "outputs": [],
   "source": [
    "# Compute the correlation matrix for the numerical variables in your dataset.\n",
    "# Identify and discuss any strong correlations. Use a heatmap to visualize the correlation matrix."
   ]
  },
  {
   "cell_type": "markdown",
   "metadata": {},
   "source": [
    "# Task 3: Data Visualization"
   ]
  },
  {
   "cell_type": "markdown",
   "metadata": {},
   "source": [
    "1. Time Series Analysis:\n",
    "    - Create a line plot showing trends over time for at least two variables. Ensure the plot is well-labeled and includes a legend.\n",
    "    - Discuss any noticeable trends or patterns in the data over time."
   ]
  },
  {
   "cell_type": "code",
   "execution_count": 235,
   "metadata": {},
   "outputs": [],
   "source": [
    "# Create a line plot showing trends over time for at least two variables.\n",
    "# Discuss any noticeable trends or patterns in the data over time."
   ]
  },
  {
   "cell_type": "code",
   "execution_count": 236,
   "metadata": {},
   "outputs": [
    {
     "name": "stdout",
     "output_type": "stream",
     "text": [
      "Row with maximum production value for food in 1961:\n",
      "AREA                 China, mainland\n",
      "YEAR                            1961\n",
      "ITEM                   Starchy Roots\n",
      "ELEMENT                         Food\n",
      "PRODUCTION_VALUE             74071.0\n",
      "POPULATION_VALUE                 NaN\n",
      "CONTINENT                       Asia\n",
      "PRODUCTION_GROWTH           8.056242\n",
      "Name: 4239, dtype: object\n",
      "Row with maximum production value for feed in 1961:\n",
      "AREA                 United States of America\n",
      "YEAR                                     1961\n",
      "ITEM                 Cereals - Excluding Beer\n",
      "ELEMENT                                  Feed\n",
      "PRODUCTION_VALUE                     112227.0\n",
      "POPULATION_VALUE                          NaN\n",
      "CONTINENT                       North America\n",
      "PRODUCTION_GROWTH                         inf\n",
      "Name: 20506, dtype: object\n"
     ]
    }
   ],
   "source": [
    "# Filter the DataFrame for the year 1961 and only include rows where the ELEMENT is 'Food'\n",
    "df_1961 = merged_df[merged_df['YEAR'] == 1961]\n",
    "df_1961 = df_1961[df_1961['ELEMENT'] == 'Food']\n",
    "\n",
    "# Find the row with the maximum production value for food in 1961\n",
    "max_production_row = df_1961.loc[df_1961['PRODUCTION_VALUE'].idxmax()]\n",
    "\n",
    "# Print the row with the maximum production value for food in 1961\n",
    "print(\"Row with maximum production value for food in 1961:\")\n",
    "print(max_production_row)\n",
    "\n",
    "# Filter the DataFrame for the year 1961 and only include rows where the ELEMENT is 'Feed'\n",
    "df_1961 = merged_df[merged_df['YEAR'] == 1961]\n",
    "df_1961 = df_1961[df_1961['ELEMENT'] == 'Feed']\n",
    "\n",
    "# Find the row with the maximum production value for feed in 1961\n",
    "max_production_row = df_1961.loc[df_1961['PRODUCTION_VALUE'].idxmax()]\n",
    "\n",
    "# Print the row with the maximum production value for feed in 1961\n",
    "print(\"Row with maximum production value for feed in 1961:\")\n",
    "print(max_production_row)"
   ]
  },
  {
   "cell_type": "code",
   "execution_count": 237,
   "metadata": {},
   "outputs": [
    {
     "name": "stdout",
     "output_type": "stream",
     "text": [
      "Row with maximum production value for food in 2013:\n",
      "AREA                 China, mainland\n",
      "YEAR                            2013\n",
      "ITEM                      Vegetables\n",
      "ELEMENT                         Food\n",
      "PRODUCTION_VALUE            489299.0\n",
      "POPULATION_VALUE                 NaN\n",
      "CONTINENT                       Asia\n",
      "PRODUCTION_GROWTH          12.751307\n",
      "Name: 1121053, dtype: object\n",
      "Row with maximum production value for feed in 2013:\n",
      "AREA                          China, mainland\n",
      "YEAR                                     2013\n",
      "ITEM                 Cereals - Excluding Beer\n",
      "ELEMENT                                  Feed\n",
      "PRODUCTION_VALUE                     193043.0\n",
      "POPULATION_VALUE                          NaN\n",
      "CONTINENT                                Asia\n",
      "PRODUCTION_GROWTH                 1594.396694\n",
      "Name: 1121040, dtype: object\n"
     ]
    }
   ],
   "source": [
    "# Filter the DataFrame for the year 2013 and only include rows where the ELEMENT is 'Food'\n",
    "df_2013 = merged_df[merged_df['YEAR'] == 2013]\n",
    "df_2013 = df_2013[df_2013['ELEMENT'] == 'Food']\n",
    "\n",
    "# Find the row with the maximum production value for food in 2013\n",
    "max_production_row = df_2013.loc[df_2013['PRODUCTION_VALUE'].idxmax()]\n",
    "\n",
    "# Print the row with the maximum production value for food in 2013\n",
    "print(\"Row with maximum production value for food in 2013:\")\n",
    "print(max_production_row)\n",
    "\n",
    "# Filter the DataFrame for the year 2013 and only include rows where the ELEMENT is 'Feed'\n",
    "df_2013 = merged_df[merged_df['YEAR'] == 2013]\n",
    "df_2013 = df_2013[df_2013['ELEMENT'] == 'Feed']\n",
    "\n",
    "# Find the row with the maximum production value for feed in 2013\n",
    "max_production_row = df_2013.loc[df_2013['PRODUCTION_VALUE'].idxmax()]\n",
    "\n",
    "# Print the row with the maximum production value for feed in 2013\n",
    "print(\"Row with maximum production value for feed in 2013:\")\n",
    "print(max_production_row)\n"
   ]
  },
  {
   "cell_type": "code",
   "execution_count": 238,
   "metadata": {},
   "outputs": [
    {
     "data": {
      "image/png": "[encoded data removed]",
      "text/plain": [
       "<Figure size 1200x600 with 1 Axes>"
      ]
     },
     "metadata": {},
     "output_type": "display_data"
    }
   ],
   "source": [
    "# Filter for \"Starchy Roots\" in China for the 'Food' element in 1961\n",
    "biggest_food_1961 = merged_df[\n",
    "    (merged_df['ITEM'] == 'Starchy Roots') &\n",
    "    (merged_df['AREA'] == 'China, mainland') &\n",
    "    (merged_df['ELEMENT'] == 'Food')\n",
    "]\n",
    "\n",
    "# Filter for \"Cereals - Excluding Beer\" in the USA for the 'Feed' element in 1961\n",
    "biggest_feed_1961 = merged_df[\n",
    "    (merged_df['ITEM'] == 'Cereals - Excluding Beer') &\n",
    "    (merged_df['AREA'] == 'United States of America') &\n",
    "    (merged_df['ELEMENT'] == 'Feed')\n",
    "]\n",
    "\n",
    "# Filter for \"Vegetables\" in China for the 'Food' element in 2013\n",
    "biggest_food_2013 = merged_df[\n",
    "    (merged_df['ITEM'] == 'Vegetables') &\n",
    "    (merged_df['AREA'] == 'China, mainland') &\n",
    "    (merged_df['ELEMENT'] == 'Food') \n",
    "]\n",
    "\n",
    "# Filter for \"Cereals - Excluding Beer\" in China for the 'Feed' element in 2013\n",
    "biggest_feed_2013 = merged_df[\n",
    "    (merged_df['ITEM'] == 'Cereals - Excluding Beer') &\n",
    "    (merged_df['AREA'] == 'China, mainland') &\n",
    "    (merged_df['ELEMENT'] == 'Feed')\n",
    "]\n",
    "\n",
    "# Plotting\n",
    "plt.figure(figsize=(12, 6))\n",
    "plt.plot(biggest_food_1961['YEAR'], biggest_food_1961['PRODUCTION_VALUE'], marker='o', color='b', label='Starchy Roots (China)')\n",
    "plt.plot(biggest_feed_1961['YEAR'], biggest_feed_1961['PRODUCTION_VALUE'], marker='x', color='r', label='Cereals - Excluding Beer (USA)')\n",
    "plt.plot(biggest_food_2013['YEAR'], biggest_food_2013['PRODUCTION_VALUE'], marker='o', color='g', label='Vegetables (China)')\n",
    "plt.plot(biggest_feed_2013['YEAR'], biggest_feed_2013['PRODUCTION_VALUE'], marker='x', color='m', label='Cereals - Excluding Beer (China)')\n",
    "plt.xlabel('Year'),\n",
    "plt.ylabel('Production Value')\n",
    "plt.title('Trending Food/Feed of 1961 and 2013')\n",
    "plt.grid(True)\n",
    "plt.legend()\n",
    "plt.tight_layout()\n",
    "plt.show()"
   ]
  },
  {
   "cell_type": "markdown",
   "metadata": {},
   "source": [
    "This graph plots the trending items for foods and feeds in 1961 and 2013. Foods are marked by 'o', while Feeds are marked by ‘x.’ The graph shows that the trending food in 1961 was starchy foods and vegetables in 2013. It can be seen that the production of starchy foods in the years 1961 up to 1984 was greater than that of vegetables. In the upcoming year, the production of vegetables overtook starchy foods and continued to widen the gap in production in the following years. As for the production of feeds, it was observed in 1961 that the gap between the output of cereals of the USA and China is significant. Throughout the years, the USA produced cereals steadily in the range of 100,000-200,000. While China continuously increased its production from below 100,000 to just shy of 200,000 in 20134.\n"
   ]
  },
  {
   "cell_type": "code",
   "execution_count": 239,
   "metadata": {},
   "outputs": [
    {
     "data": {
      "image/png": "[encoded data removed]",
      "text/plain": [
       "<Figure size 1400x1200 with 2 Axes>"
      ]
     },
     "metadata": {},
     "output_type": "display_data"
    }
   ],
   "source": [
    "# Filter and pivot for 'Feed'\n",
    "feed_df = merged_df[(merged_df['YEAR'] != 2017) & (merged_df['ELEMENT'] == 'Feed')]\n",
    "feed_pivot_df = feed_df.pivot_table(index='YEAR', columns='CONTINENT', values='PRODUCTION_VALUE', aggfunc='sum')\n",
    "\n",
    "# Filter and pivot for 'Food'\n",
    "food_df = merged_df[(merged_df['YEAR'] != 2017) & (merged_df['ELEMENT'] == 'Food')]\n",
    "food_pivot_df = food_df.pivot_table(index='YEAR', columns='CONTINENT', values='PRODUCTION_VALUE', aggfunc='sum')\n",
    "\n",
    "# Create subplots\n",
    "fig, axes = plt.subplots(nrows=2, ncols=1, figsize=(14, 12), sharex=True)\n",
    "\n",
    "# Plot for 'Feed'\n",
    "for column in feed_pivot_df.columns:\n",
    "    axes[0].plot(feed_pivot_df.index, feed_pivot_df[column], label=column, linestyle='-', marker='o')\n",
    "\n",
    "axes[0].set_ylabel('Production Value')\n",
    "axes[0].set_title('Total Feed Production Value Over Time by Continent')\n",
    "axes[0].legend(loc='upper left', bbox_to_anchor=(1, 1))\n",
    "axes[0].grid(True)\n",
    "\n",
    "# Plot for 'Food'\n",
    "for column in food_pivot_df.columns:\n",
    "    axes[1].plot(food_pivot_df.index, food_pivot_df[column], label=column, linestyle='--', marker='o')\n",
    "\n",
    "axes[1].set_xlabel('Year')\n",
    "axes[1].set_ylabel('Production Value')\n",
    "axes[1].set_title('Total Food Production Over Time by Continent')\n",
    "axes[1].legend(loc='upper left', bbox_to_anchor=(1, 1))\n",
    "axes[1].grid(True)\n",
    "\n",
    "# Adjust layout\n",
    "plt.tight_layout()\n",
    "plt.show()"
   ]
  },
  {
   "cell_type": "markdown",
   "metadata": {},
   "source": [
    "The graph displays each continent's feed and food production from 1961-2013. The first graph shows that in 1961, the European countries had the highest collective production of feeds but steadily declined from 1990. While Asian countries were significantly behind in 1961, their output of feeds continuously increased until past European countries in 1996. The second graph shows that all continents had an almost stagnant food production output throughout the years except for Asian countries, which had continuously increased their food production."
   ]
  },
  {
   "cell_type": "markdown",
   "metadata": {},
   "source": [
    "2. Comparison Plot:\n",
    "    - Create a bar chart or box plot to compare the distributions of a variable across different categories (e.g., regions, countries).\n",
    "    - Provide insights based on your visualization."
   ]
  },
  {
   "cell_type": "code",
   "execution_count": 240,
   "metadata": {},
   "outputs": [],
   "source": [
    "# Create a bar chart or box plot to compare the distributions of a variable across different categories (e.g., regions, countries).\n",
    "# Provide insights based on your visualization."
   ]
  },
  {
   "cell_type": "code",
   "execution_count": 241,
   "metadata": {},
   "outputs": [
    {
     "data": {
      "image/png": "[encoded data removed]",
      "text/plain": [
       "<Figure size 1000x600 with 1 Axes>"
      ]
     },
     "metadata": {},
     "output_type": "display_data"
    }
   ],
   "source": [
    "# Filter the DataFrame for the item \"Vegetables\" in 2013\n",
    "wine_df = merged_df[\n",
    "    (merged_df['YEAR'] == 2013) & \n",
    "    (merged_df['ITEM'] == 'Wine') & \n",
    "    (merged_df['ELEMENT'] == 'Food')\n",
    "]\n",
    "\n",
    "# Group by continent and sum the production values\n",
    "wine_by_continent = wine_df.groupby('CONTINENT')['PRODUCTION_VALUE'].sum().sort_values()\n",
    "\n",
    "# Plotting a bar chart\n",
    "plt.figure(figsize=(10, 6))\n",
    "plt.bar(wine_by_continent.index, wine_by_continent.values, color='purple')\n",
    "plt.xlabel('Continent')\n",
    "plt.ylabel('Total Production Value')\n",
    "plt.title('Total Production of Wine Across Continents in 2013')\n",
    "plt.grid(axis='y', linestyle='--', alpha=0.7)\n",
    "plt.tight_layout()\n",
    "plt.show()"
   ]
  },
  {
   "cell_type": "markdown",
   "metadata": {},
   "source": [
    "The bar chart displays the total wine production across the continents. The diagram shows the significant differences between the production of wine from European countries compared to the rest. This indicates that European countries have a cultural emphasis on the consumption of wine. Due to the significant difference in the production rate of wine, it can be said that the economic condition of the wine industry is more favorable in Europe than in other countries. This also implies that European countries may be the biggest exporters of wine because of the significant production rate of wines."
   ]
  },
  {
   "cell_type": "markdown",
   "metadata": {},
   "source": [
    "3. Geographical Visualization (Optional Advanced Task):\n",
    "    - If applicable, create a choropleth map showing the distribution of a key variable across different countries or regions.\n",
    "    - Analyze the geographical trends you observe."
   ]
  },
  {
   "cell_type": "code",
   "execution_count": 242,
   "metadata": {},
   "outputs": [],
   "source": [
    "# If applicable, create a choropleth map showing the distribution of a key variable across different countries or regions.\n",
    "# Analyze the geographical trends you observe."
   ]
  },
  {
   "cell_type": "code",
   "execution_count": 243,
   "metadata": {},
   "outputs": [
    {
     "data": {
      "application/vnd.plotly.v1+json": {
       "config": {
        "plotlyServerURL": "https://plot.ly"
       },
       "data": [
        {
         "coloraxis": "coloraxis",
         "geo": "geo",
         "hovertemplate": "AREA=%{location}<br>PRODUCTION_VALUE=%{z}<extra></extra>",
         "locationmode": "country names",
         "locations": [
          "Afghanistan",
          "Albania",
          "Algeria",
          "Angola",
          "Antigua and Barbuda",
          "Argentina",
          "Armenia",
          "Australia",
          "Austria",
          "Azerbaijan",
          "Bahamas",
          "Bangladesh",
          "Barbados",
          "Belarus",
          "Belgium",
          "Belize",
          "Benin",
          "Bermuda",
          "Bolivia (Plurinational State of)",
          "Bosnia and Herzegovina",
          "Botswana",
          "Brazil",
          "Brunei Darussalam",
          "Bulgaria",
          "Burkina Faso",
          "Cabo Verde",
          "Cambodia",
          "Cameroon",
          "Canada",
          "Central African Republic",
          "Chad",
          "Chile",
          "China, Hong Kong SAR",
          "China, Macao SAR",
          "China, Taiwan Province of",
          "China, mainland",
          "Colombia",
          "Congo",
          "Costa Rica",
          "Croatia",
          "Cuba",
          "Cyprus",
          "Czechia",
          "Côte d'Ivoire",
          "Denmark",
          "Djibouti",
          "Dominica",
          "Dominican Republic",
          "Ecuador",
          "Egypt",
          "El Salvador",
          "Estonia",
          "Ethiopia",
          "Fiji",
          "Finland",
          "France",
          "French Polynesia",
          "Gabon",
          "Gambia",
          "Georgia",
          "Germany",
          "Ghana",
          "Greece",
          "Grenada",
          "Guatemala",
          "Guinea",
          "Guinea-Bissau",
          "Guyana",
          "Haiti",
          "Honduras",
          "Hungary",
          "Iceland",
          "India",
          "Indonesia",
          "Iran (Islamic Republic of)",
          "Iraq",
          "Ireland",
          "Israel",
          "Italy",
          "Jamaica",
          "Japan",
          "Jordan",
          "Kazakhstan",
          "Kenya",
          "Kiribati",
          "Kyrgyzstan",
          "Lao People's Democratic Republic",
          "Latvia",
          "Lebanon",
          "Lesotho",
          "Liberia",
          "Lithuania",
          "Luxembourg",
          "Madagascar",
          "Malawi",
          "Malaysia",
          "Maldives",
          "Mali",
          "Malta",
          "Mauritania",
          "Mauritius",
          "Mexico",
          "Mongolia",
          "Montenegro",
          "Morocco",
          "Mozambique",
          "Myanmar",
          "Namibia",
          "Nepal",
          "Netherlands",
          "New Caledonia",
          "New Zealand",
          "Nicaragua",
          "Niger",
          "Nigeria",
          "Norway",
          "Pakistan",
          "Panama",
          "Paraguay",
          "Peru",
          "Philippines",
          "Poland",
          "Portugal",
          "Republic of Korea",
          "Republic of Moldova",
          "Romania",
          "Russian Federation",
          "Rwanda",
          "Saint Kitts and Nevis",
          "Saint Lucia",
          "Saint Vincent and the Grenadines",
          "Samoa",
          "Sao Tome and Principe",
          "Saudi Arabia",
          "Senegal",
          "Serbia",
          "Sierra Leone",
          "Slovakia",
          "Slovenia",
          "Solomon Islands",
          "South Africa",
          "Spain",
          "Sri Lanka",
          "Suriname",
          "Swaziland",
          "Sweden",
          "Switzerland",
          "Tajikistan",
          "Thailand",
          "The former Yugoslav Republic of Macedonia",
          "Timor-Leste",
          "Togo",
          "Trinidad and Tobago",
          "Tunisia",
          "Turkey",
          "Turkmenistan",
          "Uganda",
          "Ukraine",
          "United Kingdom",
          "United Republic of Tanzania",
          "United States of America",
          "Uruguay",
          "Uzbekistan",
          "Vanuatu",
          "Venezuela (Bolivarian Republic of)",
          "Viet Nam",
          "Yemen",
          "Zambia",
          "Zimbabwe"
         ],
         "name": "",
         "type": "choropleth",
         "z": [
          0,
          25,
          0,
          100,
          1,
          1038,
          4,
          455,
          269,
          2,
          2,
          0,
          2,
          82,
          305,
          1,
          4,
          1,
          9,
          7,
          5,
          318,
          0,
          84,
          3,
          4,
          1,
          10,
          403,
          0,
          2,
          300,
          31,
          7,
          16,
          2075,
          17,
          5,
          10,
          59,
          17,
          18,
          98,
          27,
          159,
          1,
          0,
          12,
          5,
          5,
          2,
          20,
          2,
          1,
          64,
          2429,
          3,
          7,
          0,
          64,
          1896,
          10,
          208,
          0,
          4,
          1,
          6,
          0,
          1,
          2,
          239,
          4,
          2,
          0,
          0,
          1,
          76,
          7,
          1863,
          2,
          346,
          0,
          44,
          6,
          0,
          3,
          2,
          7,
          13,
          1,
          0,
          40,
          27,
          9,
          0,
          4,
          1,
          0,
          7,
          0,
          2,
          11,
          2,
          13,
          32,
          10,
          4,
          10,
          1,
          345,
          5,
          34,
          1,
          1,
          28,
          82,
          0,
          5,
          20,
          79,
          11,
          107,
          428,
          33,
          36,
          451,
          1306,
          1,
          0,
          1,
          0,
          0,
          4,
          0,
          5,
          242,
          0,
          21,
          20,
          0,
          407,
          984,
          1,
          1,
          3,
          199,
          294,
          0,
          8,
          5,
          1,
          6,
          2,
          29,
          29,
          39,
          2,
          178,
          1185,
          6,
          2710,
          66,
          29,
          0,
          11,
          12,
          0,
          0,
          4
         ]
        }
       ],
       "layout": {
        "coloraxis": {
         "colorbar": {
          "title": {
           "text": "PRODUCTION_VALUE"
          }
         },
         "colorscale": [
          [
           0,
           "#0d0887"
          ],
          [
           0.1111111111111111,
           "#46039f"
          ],
          [
           0.2222222222222222,
           "#7201a8"
          ],
          [
           0.3333333333333333,
           "#9c179e"
          ],
          [
           0.4444444444444444,
           "#bd3786"
          ],
          [
           0.5555555555555556,
           "#d8576b"
          ],
          [
           0.6666666666666666,
           "#ed7953"
          ],
          [
           0.7777777777777778,
           "#fb9f3a"
          ],
          [
           0.8888888888888888,
           "#fdca26"
          ],
          [
           1,
           "#f0f921"
          ]
         ]
        },
        "geo": {
         "center": {},
         "domain": {
          "x": [
           0,
           1
          ],
          "y": [
           0,
           1
          ]
         }
        },
        "legend": {
         "tracegroupgap": 0
        },
        "template": {
         "data": {
          "bar": [
           {
            "error_x": {
             "color": "#2a3f5f"
            },
            "error_y": {
             "color": "#2a3f5f"
            },
            "marker": {
             "line": {
              "color": "#E5ECF6",
              "width": 0.5
             },
             "pattern": {
              "fillmode": "overlay",
              "size": 10,
              "solidity": 0.2
             }
            },
            "type": "bar"
           }
          ],
          "barpolar": [
           {
            "marker": {
             "line": {
              "color": "#E5ECF6",
              "width": 0.5
             },
             "pattern": {
              "fillmode": "overlay",
              "size": 10,
              "solidity": 0.2
             }
            },
            "type": "barpolar"
           }
          ],
          "carpet": [
           {
            "aaxis": {
             "endlinecolor": "#2a3f5f",
             "gridcolor": "white",
             "linecolor": "white",
             "minorgridcolor": "white",
             "startlinecolor": "#2a3f5f"
            },
            "baxis": {
             "endlinecolor": "#2a3f5f",
             "gridcolor": "white",
             "linecolor": "white",
             "minorgridcolor": "white",
             "startlinecolor": "#2a3f5f"
            },
            "type": "carpet"
           }
          ],
          "choropleth": [
           {
            "colorbar": {
             "outlinewidth": 0,
             "ticks": ""
            },
            "type": "choropleth"
           }
          ],
          "contour": [
           {
            "colorbar": {
             "outlinewidth": 0,
             "ticks": ""
            },
            "colorscale": [
             [
              0,
              "#0d0887"
             ],
             [
              0.1111111111111111,
              "#46039f"
             ],
             [
              0.2222222222222222,
              "#7201a8"
             ],
             [
              0.3333333333333333,
              "#9c179e"
             ],
             [
              0.4444444444444444,
              "#bd3786"
             ],
             [
              0.5555555555555556,
              "#d8576b"
             ],
             [
              0.6666666666666666,
              "#ed7953"
             ],
             [
              0.7777777777777778,
              "#fb9f3a"
             ],
             [
              0.8888888888888888,
              "#fdca26"
             ],
             [
              1,
              "#f0f921"
             ]
            ],
            "type": "contour"
           }
          ],
          "contourcarpet": [
           {
            "colorbar": {
             "outlinewidth": 0,
             "ticks": ""
            },
            "type": "contourcarpet"
           }
          ],
          "heatmap": [
           {
            "colorbar": {
             "outlinewidth": 0,
             "ticks": ""
            },
            "colorscale": [
             [
              0,
              "#0d0887"
             ],
             [
              0.1111111111111111,
              "#46039f"
             ],
             [
              0.2222222222222222,
              "#7201a8"
             ],
             [
              0.3333333333333333,
              "#9c179e"
             ],
             [
              0.4444444444444444,
              "#bd3786"
             ],
             [
              0.5555555555555556,
              "#d8576b"
             ],
             [
              0.6666666666666666,
              "#ed7953"
             ],
             [
              0.7777777777777778,
              "#fb9f3a"
             ],
             [
              0.8888888888888888,
              "#fdca26"
             ],
             [
              1,
              "#f0f921"
             ]
            ],
            "type": "heatmap"
           }
          ],
          "heatmapgl": [
           {
            "colorbar": {
             "outlinewidth": 0,
             "ticks": ""
            },
            "colorscale": [
             [
              0,
              "#0d0887"
             ],
             [
              0.1111111111111111,
              "#46039f"
             ],
             [
              0.2222222222222222,
              "#7201a8"
             ],
             [
              0.3333333333333333,
              "#9c179e"
             ],
             [
              0.4444444444444444,
              "#bd3786"
             ],
             [
              0.5555555555555556,
              "#d8576b"
             ],
             [
              0.6666666666666666,
              "#ed7953"
             ],
             [
              0.7777777777777778,
              "#fb9f3a"
             ],
             [
              0.8888888888888888,
              "#fdca26"
             ],
             [
              1,
              "#f0f921"
             ]
            ],
            "type": "heatmapgl"
           }
          ],
          "histogram": [
           {
            "marker": {
             "pattern": {
              "fillmode": "overlay",
              "size": 10,
              "solidity": 0.2
             }
            },
            "type": "histogram"
           }
          ],
          "histogram2d": [
           {
            "colorbar": {
             "outlinewidth": 0,
             "ticks": ""
            },
            "colorscale": [
             [
              0,
              "#0d0887"
             ],
             [
              0.1111111111111111,
              "#46039f"
             ],
             [
              0.2222222222222222,
              "#7201a8"
             ],
             [
              0.3333333333333333,
              "#9c179e"
             ],
             [
              0.4444444444444444,
              "#bd3786"
             ],
             [
              0.5555555555555556,
              "#d8576b"
             ],
             [
              0.6666666666666666,
              "#ed7953"
             ],
             [
              0.7777777777777778,
              "#fb9f3a"
             ],
             [
              0.8888888888888888,
              "#fdca26"
             ],
             [
              1,
              "#f0f921"
             ]
            ],
            "type": "histogram2d"
           }
          ],
          "histogram2dcontour": [
           {
            "colorbar": {
             "outlinewidth": 0,
             "ticks": ""
            },
            "colorscale": [
             [
              0,
              "#0d0887"
             ],
             [
              0.1111111111111111,
              "#46039f"
             ],
             [
              0.2222222222222222,
              "#7201a8"
             ],
             [
              0.3333333333333333,
              "#9c179e"
             ],
             [
              0.4444444444444444,
              "#bd3786"
             ],
             [
              0.5555555555555556,
              "#d8576b"
             ],
             [
              0.6666666666666666,
              "#ed7953"
             ],
             [
              0.7777777777777778,
              "#fb9f3a"
             ],
             [
              0.8888888888888888,
              "#fdca26"
             ],
             [
              1,
              "#f0f921"
             ]
            ],
            "type": "histogram2dcontour"
           }
          ],
          "mesh3d": [
           {
            "colorbar": {
             "outlinewidth": 0,
             "ticks": ""
            },
            "type": "mesh3d"
           }
          ],
          "parcoords": [
           {
            "line": {
             "colorbar": {
              "outlinewidth": 0,
              "ticks": ""
             }
            },
            "type": "parcoords"
           }
          ],
          "pie": [
           {
            "automargin": true,
            "type": "pie"
           }
          ],
          "scatter": [
           {
            "fillpattern": {
             "fillmode": "overlay",
             "size": 10,
             "solidity": 0.2
            },
            "type": "scatter"
           }
          ],
          "scatter3d": [
           {
            "line": {
             "colorbar": {
              "outlinewidth": 0,
              "ticks": ""
             }
            },
            "marker": {
             "colorbar": {
              "outlinewidth": 0,
              "ticks": ""
             }
            },
            "type": "scatter3d"
           }
          ],
          "scattercarpet": [
           {
            "marker": {
             "colorbar": {
              "outlinewidth": 0,
              "ticks": ""
             }
            },
            "type": "scattercarpet"
           }
          ],
          "scattergeo": [
           {
            "marker": {
             "colorbar": {
              "outlinewidth": 0,
              "ticks": ""
             }
            },
            "type": "scattergeo"
           }
          ],
          "scattergl": [
           {
            "marker": {
             "colorbar": {
              "outlinewidth": 0,
              "ticks": ""
             }
            },
            "type": "scattergl"
           }
          ],
          "scattermapbox": [
           {
            "marker": {
             "colorbar": {
              "outlinewidth": 0,
              "ticks": ""
             }
            },
            "type": "scattermapbox"
           }
          ],
          "scatterpolar": [
           {
            "marker": {
             "colorbar": {
              "outlinewidth": 0,
              "ticks": ""
             }
            },
            "type": "scatterpolar"
           }
          ],
          "scatterpolargl": [
           {
            "marker": {
             "colorbar": {
              "outlinewidth": 0,
              "ticks": ""
             }
            },
            "type": "scatterpolargl"
           }
          ],
          "scatterternary": [
           {
            "marker": {
             "colorbar": {
              "outlinewidth": 0,
              "ticks": ""
             }
            },
            "type": "scatterternary"
           }
          ],
          "surface": [
           {
            "colorbar": {
             "outlinewidth": 0,
             "ticks": ""
            },
            "colorscale": [
             [
              0,
              "#0d0887"
             ],
             [
              0.1111111111111111,
              "#46039f"
             ],
             [
              0.2222222222222222,
              "#7201a8"
             ],
             [
              0.3333333333333333,
              "#9c179e"
             ],
             [
              0.4444444444444444,
              "#bd3786"
             ],
             [
              0.5555555555555556,
              "#d8576b"
             ],
             [
              0.6666666666666666,
              "#ed7953"
             ],
             [
              0.7777777777777778,
              "#fb9f3a"
             ],
             [
              0.8888888888888888,
              "#fdca26"
             ],
             [
              1,
              "#f0f921"
             ]
            ],
            "type": "surface"
           }
          ],
          "table": [
           {
            "cells": {
             "fill": {
              "color": "#EBF0F8"
             },
             "line": {
              "color": "white"
             }
            },
            "header": {
             "fill": {
              "color": "#C8D4E3"
             },
             "line": {
              "color": "white"
             }
            },
            "type": "table"
           }
          ]
         },
         "layout": {
          "annotationdefaults": {
           "arrowcolor": "#2a3f5f",
           "arrowhead": 0,
           "arrowwidth": 1
          },
          "autotypenumbers": "strict",
          "coloraxis": {
           "colorbar": {
            "outlinewidth": 0,
            "ticks": ""
           }
          },
          "colorscale": {
           "diverging": [
            [
             0,
             "#8e0152"
            ],
            [
             0.1,
             "#c51b7d"
            ],
            [
             0.2,
             "#de77ae"
            ],
            [
             0.3,
             "#f1b6da"
            ],
            [
             0.4,
             "#fde0ef"
            ],
            [
             0.5,
             "#f7f7f7"
            ],
            [
             0.6,
             "#e6f5d0"
            ],
            [
             0.7,
             "#b8e186"
            ],
            [
             0.8,
             "#7fbc41"
            ],
            [
             0.9,
             "#4d9221"
            ],
            [
             1,
             "#276419"
            ]
           ],
           "sequential": [
            [
             0,
             "#0d0887"
            ],
            [
             0.1111111111111111,
             "#46039f"
            ],
            [
             0.2222222222222222,
             "#7201a8"
            ],
            [
             0.3333333333333333,
             "#9c179e"
            ],
            [
             0.4444444444444444,
             "#bd3786"
            ],
            [
             0.5555555555555556,
             "#d8576b"
            ],
            [
             0.6666666666666666,
             "#ed7953"
            ],
            [
             0.7777777777777778,
             "#fb9f3a"
            ],
            [
             0.8888888888888888,
             "#fdca26"
            ],
            [
             1,
             "#f0f921"
            ]
           ],
           "sequentialminus": [
            [
             0,
             "#0d0887"
            ],
            [
             0.1111111111111111,
             "#46039f"
            ],
            [
             0.2222222222222222,
             "#7201a8"
            ],
            [
             0.3333333333333333,
             "#9c179e"
            ],
            [
             0.4444444444444444,
             "#bd3786"
            ],
            [
             0.5555555555555556,
             "#d8576b"
            ],
            [
             0.6666666666666666,
             "#ed7953"
            ],
            [
             0.7777777777777778,
             "#fb9f3a"
            ],
            [
             0.8888888888888888,
             "#fdca26"
            ],
            [
             1,
             "#f0f921"
            ]
           ]
          },
          "colorway": [
           "#636efa",
           "#EF553B",
           "#00cc96",
           "#ab63fa",
           "#FFA15A",
           "#19d3f3",
           "#FF6692",
           "#B6E880",
           "#FF97FF",
           "#FECB52"
          ],
          "font": {
           "color": "#2a3f5f"
          },
          "geo": {
           "bgcolor": "white",
           "lakecolor": "white",
           "landcolor": "#E5ECF6",
           "showlakes": true,
           "showland": true,
           "subunitcolor": "white"
          },
          "hoverlabel": {
           "align": "left"
          },
          "hovermode": "closest",
          "mapbox": {
           "style": "light"
          },
          "paper_bgcolor": "white",
          "plot_bgcolor": "#E5ECF6",
          "polar": {
           "angularaxis": {
            "gridcolor": "white",
            "linecolor": "white",
            "ticks": ""
           },
           "bgcolor": "#E5ECF6",
           "radialaxis": {
            "gridcolor": "white",
            "linecolor": "white",
            "ticks": ""
           }
          },
          "scene": {
           "xaxis": {
            "backgroundcolor": "#E5ECF6",
            "gridcolor": "white",
            "gridwidth": 2,
            "linecolor": "white",
            "showbackground": true,
            "ticks": "",
            "zerolinecolor": "white"
           },
           "yaxis": {
            "backgroundcolor": "#E5ECF6",
            "gridcolor": "white",
            "gridwidth": 2,
            "linecolor": "white",
            "showbackground": true,
            "ticks": "",
            "zerolinecolor": "white"
           },
           "zaxis": {
            "backgroundcolor": "#E5ECF6",
            "gridcolor": "white",
            "gridwidth": 2,
            "linecolor": "white",
            "showbackground": true,
            "ticks": "",
            "zerolinecolor": "white"
           }
          },
          "shapedefaults": {
           "line": {
            "color": "#2a3f5f"
           }
          },
          "ternary": {
           "aaxis": {
            "gridcolor": "white",
            "linecolor": "white",
            "ticks": ""
           },
           "baxis": {
            "gridcolor": "white",
            "linecolor": "white",
            "ticks": ""
           },
           "bgcolor": "#E5ECF6",
           "caxis": {
            "gridcolor": "white",
            "linecolor": "white",
            "ticks": ""
           }
          },
          "title": {
           "x": 0.05
          },
          "xaxis": {
           "automargin": true,
           "gridcolor": "white",
           "linecolor": "white",
           "ticks": "",
           "title": {
            "standoff": 15
           },
           "zerolinecolor": "white",
           "zerolinewidth": 2
          },
          "yaxis": {
           "automargin": true,
           "gridcolor": "white",
           "linecolor": "white",
           "ticks": "",
           "title": {
            "standoff": 15
           },
           "zerolinecolor": "white",
           "zerolinewidth": 2
          }
         }
        },
        "title": {
         "text": "Distribution of Wine Production by Area (2013)"
        }
       }
      }
     },
     "metadata": {},
     "output_type": "display_data"
    }
   ],
   "source": [
    "# Filter for the item 'Beer'\n",
    "beer_df = merged_df[\n",
    "    (merged_df['ITEM'] == 'Wine') &\n",
    "    (merged_df['YEAR'] == 2013)\n",
    "]\n",
    "\n",
    "# Create the choropleth map\n",
    "fig = px.choropleth(\n",
    "    beer_df,\n",
    "    locations=\"AREA\",  # Column with area names\n",
    "    locationmode=\"country names\",  # Mode to recognize country names\n",
    "    color=\"PRODUCTION_VALUE\",  # Column with production values\n",
    "    title=\"Distribution of Wine Production by Area (2013)\",\n",
    "    color_continuous_scale=px.colors.sequential.Plasma  # Color scale\n",
    ")\n",
    "\n",
    "# Show the map\n",
    "fig.show()"
   ]
  },
  {
   "cell_type": "markdown",
   "metadata": {},
   "source": [
    "Here, it can be seen that Europe may have the most significant total wine production because of the combined output of France, Italy, and Germany. Still, the USA had the most produced wine, with China being the second. We can also see the influence of European countries among their neighbors because some of the countries near it have also increased their wine production."
   ]
  },
  {
   "cell_type": "code",
   "execution_count": 244,
   "metadata": {},
   "outputs": [
    {
     "data": {
      "application/vnd.plotly.v1+json": {
       "config": {
        "plotlyServerURL": "https://plot.ly"
       },
       "data": [
        {
         "coloraxis": "coloraxis",
         "geo": "geo",
         "hovertemplate": "AREA=%{location}<br>PRODUCTION_VALUE=%{z}<extra></extra>",
         "locationmode": "country names",
         "locations": [
          "Afghanistan",
          "Albania",
          "Algeria",
          "Angola",
          "Antigua and Barbuda",
          "Argentina",
          "Armenia",
          "Australia",
          "Austria",
          "Azerbaijan",
          "Bahamas",
          "Bangladesh",
          "Barbados",
          "Belarus",
          "Belgium",
          "Belize",
          "Benin",
          "Bermuda",
          "Bolivia (Plurinational State of)",
          "Bosnia and Herzegovina",
          "Botswana",
          "Brazil",
          "Brunei Darussalam",
          "Bulgaria",
          "Burkina Faso",
          "Cabo Verde",
          "Cambodia",
          "Cameroon",
          "Canada",
          "Central African Republic",
          "Chad",
          "Chile",
          "China, Hong Kong SAR",
          "China, Macao SAR",
          "China, Taiwan Province of",
          "China, mainland",
          "Colombia",
          "Congo",
          "Costa Rica",
          "Croatia",
          "Cuba",
          "Cyprus",
          "Czechia",
          "Côte d'Ivoire",
          "Denmark",
          "Djibouti",
          "Dominica",
          "Dominican Republic",
          "Ecuador",
          "Egypt",
          "El Salvador",
          "Estonia",
          "Ethiopia",
          "Fiji",
          "Finland",
          "France",
          "French Polynesia",
          "Gabon",
          "Gambia",
          "Georgia",
          "Germany",
          "Ghana",
          "Greece",
          "Grenada",
          "Guatemala",
          "Guinea",
          "Guinea-Bissau",
          "Guyana",
          "Haiti",
          "Honduras",
          "Hungary",
          "Iceland",
          "India",
          "Indonesia",
          "Iran (Islamic Republic of)",
          "Iraq",
          "Ireland",
          "Israel",
          "Italy",
          "Jamaica",
          "Japan",
          "Jordan",
          "Kazakhstan",
          "Kenya",
          "Kiribati",
          "Kyrgyzstan",
          "Lao People's Democratic Republic",
          "Latvia",
          "Lebanon",
          "Lesotho",
          "Liberia",
          "Lithuania",
          "Luxembourg",
          "Madagascar",
          "Malawi",
          "Malaysia",
          "Maldives",
          "Mali",
          "Malta",
          "Mauritania",
          "Mauritius",
          "Mexico",
          "Mongolia",
          "Montenegro",
          "Morocco",
          "Mozambique",
          "Myanmar",
          "Namibia",
          "Nepal",
          "Netherlands",
          "New Caledonia",
          "New Zealand",
          "Nicaragua",
          "Niger",
          "Nigeria",
          "Norway",
          "Pakistan",
          "Panama",
          "Paraguay",
          "Peru",
          "Philippines",
          "Poland",
          "Portugal",
          "Republic of Korea",
          "Republic of Moldova",
          "Romania",
          "Russian Federation",
          "Rwanda",
          "Saint Kitts and Nevis",
          "Saint Lucia",
          "Saint Vincent and the Grenadines",
          "Samoa",
          "Sao Tome and Principe",
          "Saudi Arabia",
          "Senegal",
          "Serbia",
          "Sierra Leone",
          "Slovakia",
          "Slovenia",
          "Solomon Islands",
          "South Africa",
          "Spain",
          "Sri Lanka",
          "Suriname",
          "Swaziland",
          "Sweden",
          "Switzerland",
          "Tajikistan",
          "Thailand",
          "The former Yugoslav Republic of Macedonia",
          "Timor-Leste",
          "Togo",
          "Trinidad and Tobago",
          "Tunisia",
          "Turkey",
          "Turkmenistan",
          "Uganda",
          "Ukraine",
          "United Kingdom",
          "United Republic of Tanzania",
          "United States of America",
          "Uruguay",
          "Uzbekistan",
          "Vanuatu",
          "Venezuela (Bolivarian Republic of)",
          "Viet Nam",
          "Yemen",
          "Zambia",
          "Zimbabwe"
         ],
         "name": "",
         "type": "choropleth",
         "z": [
          0,
          3,
          0,
          68,
          0,
          1642,
          26,
          51,
          167,
          4,
          0,
          0,
          0,
          11,
          251,
          0,
          2,
          0,
          1,
          21,
          0,
          136,
          0,
          177,
          2,
          1,
          0,
          27,
          32,
          1,
          1,
          453,
          0,
          0,
          0,
          0,
          1,
          17,
          0,
          193,
          1,
          7,
          66,
          28,
          14,
          1,
          0,
          0,
          0,
          2,
          0,
          1,
          1,
          0,
          4,
          5529,
          1,
          8,
          0,
          177,
          601,
          0,
          283,
          0,
          0,
          1,
          2,
          0,
          0,
          0,
          270,
          0,
          0,
          0,
          0,
          0,
          3,
          10,
          5465,
          0,
          11,
          0,
          46,
          1,
          0,
          9,
          0,
          6,
          4,
          0,
          0,
          6,
          28,
          21,
          0,
          0,
          0,
          1,
          0,
          0,
          0,
          5,
          0,
          11,
          13,
          36,
          0,
          0,
          0,
          27,
          3,
          5,
          0,
          1,
          0,
          5,
          0,
          0,
          4,
          8,
          0,
          10,
          580,
          0,
          144,
          404,
          684,
          0,
          0,
          0,
          0,
          0,
          2,
          0,
          12,
          148,
          1,
          7,
          97,
          0,
          287,
          1820,
          0,
          0,
          0,
          29,
          201,
          19,
          0,
          26,
          0,
          2,
          0,
          10,
          27,
          8,
          0,
          192,
          106,
          0,
          615,
          75,
          64,
          1,
          1,
          1,
          0,
          0,
          1
         ]
        }
       ],
       "layout": {
        "coloraxis": {
         "colorbar": {
          "title": {
           "text": "PRODUCTION_VALUE"
          }
         },
         "colorscale": [
          [
           0,
           "#0d0887"
          ],
          [
           0.1111111111111111,
           "#46039f"
          ],
          [
           0.2222222222222222,
           "#7201a8"
          ],
          [
           0.3333333333333333,
           "#9c179e"
          ],
          [
           0.4444444444444444,
           "#bd3786"
          ],
          [
           0.5555555555555556,
           "#d8576b"
          ],
          [
           0.6666666666666666,
           "#ed7953"
          ],
          [
           0.7777777777777778,
           "#fb9f3a"
          ],
          [
           0.8888888888888888,
           "#fdca26"
          ],
          [
           1,
           "#f0f921"
          ]
         ]
        },
        "geo": {
         "center": {},
         "domain": {
          "x": [
           0,
           1
          ],
          "y": [
           0,
           1
          ]
         }
        },
        "legend": {
         "tracegroupgap": 0
        },
        "template": {
         "data": {
          "bar": [
           {
            "error_x": {
             "color": "#2a3f5f"
            },
            "error_y": {
             "color": "#2a3f5f"
            },
            "marker": {
             "line": {
              "color": "#E5ECF6",
              "width": 0.5
             },
             "pattern": {
              "fillmode": "overlay",
              "size": 10,
              "solidity": 0.2
             }
            },
            "type": "bar"
           }
          ],
          "barpolar": [
           {
            "marker": {
             "line": {
              "color": "#E5ECF6",
              "width": 0.5
             },
             "pattern": {
              "fillmode": "overlay",
              "size": 10,
              "solidity": 0.2
             }
            },
            "type": "barpolar"
           }
          ],
          "carpet": [
           {
            "aaxis": {
             "endlinecolor": "#2a3f5f",
             "gridcolor": "white",
             "linecolor": "white",
             "minorgridcolor": "white",
             "startlinecolor": "#2a3f5f"
            },
            "baxis": {
             "endlinecolor": "#2a3f5f",
             "gridcolor": "white",
             "linecolor": "white",
             "minorgridcolor": "white",
             "startlinecolor": "#2a3f5f"
            },
            "type": "carpet"
           }
          ],
          "choropleth": [
           {
            "colorbar": {
             "outlinewidth": 0,
             "ticks": ""
            },
            "type": "choropleth"
           }
          ],
          "contour": [
           {
            "colorbar": {
             "outlinewidth": 0,
             "ticks": ""
            },
            "colorscale": [
             [
              0,
              "#0d0887"
             ],
             [
              0.1111111111111111,
              "#46039f"
             ],
             [
              0.2222222222222222,
              "#7201a8"
             ],
             [
              0.3333333333333333,
              "#9c179e"
             ],
             [
              0.4444444444444444,
              "#bd3786"
             ],
             [
              0.5555555555555556,
              "#d8576b"
             ],
             [
              0.6666666666666666,
              "#ed7953"
             ],
             [
              0.7777777777777778,
              "#fb9f3a"
             ],
             [
              0.8888888888888888,
              "#fdca26"
             ],
             [
              1,
              "#f0f921"
             ]
            ],
            "type": "contour"
           }
          ],
          "contourcarpet": [
           {
            "colorbar": {
             "outlinewidth": 0,
             "ticks": ""
            },
            "type": "contourcarpet"
           }
          ],
          "heatmap": [
           {
            "colorbar": {
             "outlinewidth": 0,
             "ticks": ""
            },
            "colorscale": [
             [
              0,
              "#0d0887"
             ],
             [
              0.1111111111111111,
              "#46039f"
             ],
             [
              0.2222222222222222,
              "#7201a8"
             ],
             [
              0.3333333333333333,
              "#9c179e"
             ],
             [
              0.4444444444444444,
              "#bd3786"
             ],
             [
              0.5555555555555556,
              "#d8576b"
             ],
             [
              0.6666666666666666,
              "#ed7953"
             ],
             [
              0.7777777777777778,
              "#fb9f3a"
             ],
             [
              0.8888888888888888,
              "#fdca26"
             ],
             [
              1,
              "#f0f921"
             ]
            ],
            "type": "heatmap"
           }
          ],
          "heatmapgl": [
           {
            "colorbar": {
             "outlinewidth": 0,
             "ticks": ""
            },
            "colorscale": [
             [
              0,
              "#0d0887"
             ],
             [
              0.1111111111111111,
              "#46039f"
             ],
             [
              0.2222222222222222,
              "#7201a8"
             ],
             [
              0.3333333333333333,
              "#9c179e"
             ],
             [
              0.4444444444444444,
              "#bd3786"
             ],
             [
              0.5555555555555556,
              "#d8576b"
             ],
             [
              0.6666666666666666,
              "#ed7953"
             ],
             [
              0.7777777777777778,
              "#fb9f3a"
             ],
             [
              0.8888888888888888,
              "#fdca26"
             ],
             [
              1,
              "#f0f921"
             ]
            ],
            "type": "heatmapgl"
           }
          ],
          "histogram": [
           {
            "marker": {
             "pattern": {
              "fillmode": "overlay",
              "size": 10,
              "solidity": 0.2
             }
            },
            "type": "histogram"
           }
          ],
          "histogram2d": [
           {
            "colorbar": {
             "outlinewidth": 0,
             "ticks": ""
            },
            "colorscale": [
             [
              0,
              "#0d0887"
             ],
             [
              0.1111111111111111,
              "#46039f"
             ],
             [
              0.2222222222222222,
              "#7201a8"
             ],
             [
              0.3333333333333333,
              "#9c179e"
             ],
             [
              0.4444444444444444,
              "#bd3786"
             ],
             [
              0.5555555555555556,
              "#d8576b"
             ],
             [
              0.6666666666666666,
              "#ed7953"
             ],
             [
              0.7777777777777778,
              "#fb9f3a"
             ],
             [
              0.8888888888888888,
              "#fdca26"
             ],
             [
              1,
              "#f0f921"
             ]
            ],
            "type": "histogram2d"
           }
          ],
          "histogram2dcontour": [
           {
            "colorbar": {
             "outlinewidth": 0,
             "ticks": ""
            },
            "colorscale": [
             [
              0,
              "#0d0887"
             ],
             [
              0.1111111111111111,
              "#46039f"
             ],
             [
              0.2222222222222222,
              "#7201a8"
             ],
             [
              0.3333333333333333,
              "#9c179e"
             ],
             [
              0.4444444444444444,
              "#bd3786"
             ],
             [
              0.5555555555555556,
              "#d8576b"
             ],
             [
              0.6666666666666666,
              "#ed7953"
             ],
             [
              0.7777777777777778,
              "#fb9f3a"
             ],
             [
              0.8888888888888888,
              "#fdca26"
             ],
             [
              1,
              "#f0f921"
             ]
            ],
            "type": "histogram2dcontour"
           }
          ],
          "mesh3d": [
           {
            "colorbar": {
             "outlinewidth": 0,
             "ticks": ""
            },
            "type": "mesh3d"
           }
          ],
          "parcoords": [
           {
            "line": {
             "colorbar": {
              "outlinewidth": 0,
              "ticks": ""
             }
            },
            "type": "parcoords"
           }
          ],
          "pie": [
           {
            "automargin": true,
            "type": "pie"
           }
          ],
          "scatter": [
           {
            "fillpattern": {
             "fillmode": "overlay",
             "size": 10,
             "solidity": 0.2
            },
            "type": "scatter"
           }
          ],
          "scatter3d": [
           {
            "line": {
             "colorbar": {
              "outlinewidth": 0,
              "ticks": ""
             }
            },
            "marker": {
             "colorbar": {
              "outlinewidth": 0,
              "ticks": ""
             }
            },
            "type": "scatter3d"
           }
          ],
          "scattercarpet": [
           {
            "marker": {
             "colorbar": {
              "outlinewidth": 0,
              "ticks": ""
             }
            },
            "type": "scattercarpet"
           }
          ],
          "scattergeo": [
           {
            "marker": {
             "colorbar": {
              "outlinewidth": 0,
              "ticks": ""
             }
            },
            "type": "scattergeo"
           }
          ],
          "scattergl": [
           {
            "marker": {
             "colorbar": {
              "outlinewidth": 0,
              "ticks": ""
             }
            },
            "type": "scattergl"
           }
          ],
          "scattermapbox": [
           {
            "marker": {
             "colorbar": {
              "outlinewidth": 0,
              "ticks": ""
             }
            },
            "type": "scattermapbox"
           }
          ],
          "scatterpolar": [
           {
            "marker": {
             "colorbar": {
              "outlinewidth": 0,
              "ticks": ""
             }
            },
            "type": "scatterpolar"
           }
          ],
          "scatterpolargl": [
           {
            "marker": {
             "colorbar": {
              "outlinewidth": 0,
              "ticks": ""
             }
            },
            "type": "scatterpolargl"
           }
          ],
          "scatterternary": [
           {
            "marker": {
             "colorbar": {
              "outlinewidth": 0,
              "ticks": ""
             }
            },
            "type": "scatterternary"
           }
          ],
          "surface": [
           {
            "colorbar": {
             "outlinewidth": 0,
             "ticks": ""
            },
            "colorscale": [
             [
              0,
              "#0d0887"
             ],
             [
              0.1111111111111111,
              "#46039f"
             ],
             [
              0.2222222222222222,
              "#7201a8"
             ],
             [
              0.3333333333333333,
              "#9c179e"
             ],
             [
              0.4444444444444444,
              "#bd3786"
             ],
             [
              0.5555555555555556,
              "#d8576b"
             ],
             [
              0.6666666666666666,
              "#ed7953"
             ],
             [
              0.7777777777777778,
              "#fb9f3a"
             ],
             [
              0.8888888888888888,
              "#fdca26"
             ],
             [
              1,
              "#f0f921"
             ]
            ],
            "type": "surface"
           }
          ],
          "table": [
           {
            "cells": {
             "fill": {
              "color": "#EBF0F8"
             },
             "line": {
              "color": "white"
             }
            },
            "header": {
             "fill": {
              "color": "#C8D4E3"
             },
             "line": {
              "color": "white"
             }
            },
            "type": "table"
           }
          ]
         },
         "layout": {
          "annotationdefaults": {
           "arrowcolor": "#2a3f5f",
           "arrowhead": 0,
           "arrowwidth": 1
          },
          "autotypenumbers": "strict",
          "coloraxis": {
           "colorbar": {
            "outlinewidth": 0,
            "ticks": ""
           }
          },
          "colorscale": {
           "diverging": [
            [
             0,
             "#8e0152"
            ],
            [
             0.1,
             "#c51b7d"
            ],
            [
             0.2,
             "#de77ae"
            ],
            [
             0.3,
             "#f1b6da"
            ],
            [
             0.4,
             "#fde0ef"
            ],
            [
             0.5,
             "#f7f7f7"
            ],
            [
             0.6,
             "#e6f5d0"
            ],
            [
             0.7,
             "#b8e186"
            ],
            [
             0.8,
             "#7fbc41"
            ],
            [
             0.9,
             "#4d9221"
            ],
            [
             1,
             "#276419"
            ]
           ],
           "sequential": [
            [
             0,
             "#0d0887"
            ],
            [
             0.1111111111111111,
             "#46039f"
            ],
            [
             0.2222222222222222,
             "#7201a8"
            ],
            [
             0.3333333333333333,
             "#9c179e"
            ],
            [
             0.4444444444444444,
             "#bd3786"
            ],
            [
             0.5555555555555556,
             "#d8576b"
            ],
            [
             0.6666666666666666,
             "#ed7953"
            ],
            [
             0.7777777777777778,
             "#fb9f3a"
            ],
            [
             0.8888888888888888,
             "#fdca26"
            ],
            [
             1,
             "#f0f921"
            ]
           ],
           "sequentialminus": [
            [
             0,
             "#0d0887"
            ],
            [
             0.1111111111111111,
             "#46039f"
            ],
            [
             0.2222222222222222,
             "#7201a8"
            ],
            [
             0.3333333333333333,
             "#9c179e"
            ],
            [
             0.4444444444444444,
             "#bd3786"
            ],
            [
             0.5555555555555556,
             "#d8576b"
            ],
            [
             0.6666666666666666,
             "#ed7953"
            ],
            [
             0.7777777777777778,
             "#fb9f3a"
            ],
            [
             0.8888888888888888,
             "#fdca26"
            ],
            [
             1,
             "#f0f921"
            ]
           ]
          },
          "colorway": [
           "#636efa",
           "#EF553B",
           "#00cc96",
           "#ab63fa",
           "#FFA15A",
           "#19d3f3",
           "#FF6692",
           "#B6E880",
           "#FF97FF",
           "#FECB52"
          ],
          "font": {
           "color": "#2a3f5f"
          },
          "geo": {
           "bgcolor": "white",
           "lakecolor": "white",
           "landcolor": "#E5ECF6",
           "showlakes": true,
           "showland": true,
           "subunitcolor": "white"
          },
          "hoverlabel": {
           "align": "left"
          },
          "hovermode": "closest",
          "mapbox": {
           "style": "light"
          },
          "paper_bgcolor": "white",
          "plot_bgcolor": "#E5ECF6",
          "polar": {
           "angularaxis": {
            "gridcolor": "white",
            "linecolor": "white",
            "ticks": ""
           },
           "bgcolor": "#E5ECF6",
           "radialaxis": {
            "gridcolor": "white",
            "linecolor": "white",
            "ticks": ""
           }
          },
          "scene": {
           "xaxis": {
            "backgroundcolor": "#E5ECF6",
            "gridcolor": "white",
            "gridwidth": 2,
            "linecolor": "white",
            "showbackground": true,
            "ticks": "",
            "zerolinecolor": "white"
           },
           "yaxis": {
            "backgroundcolor": "#E5ECF6",
            "gridcolor": "white",
            "gridwidth": 2,
            "linecolor": "white",
            "showbackground": true,
            "ticks": "",
            "zerolinecolor": "white"
           },
           "zaxis": {
            "backgroundcolor": "#E5ECF6",
            "gridcolor": "white",
            "gridwidth": 2,
            "linecolor": "white",
            "showbackground": true,
            "ticks": "",
            "zerolinecolor": "white"
           }
          },
          "shapedefaults": {
           "line": {
            "color": "#2a3f5f"
           }
          },
          "ternary": {
           "aaxis": {
            "gridcolor": "white",
            "linecolor": "white",
            "ticks": ""
           },
           "baxis": {
            "gridcolor": "white",
            "linecolor": "white",
            "ticks": ""
           },
           "bgcolor": "#E5ECF6",
           "caxis": {
            "gridcolor": "white",
            "linecolor": "white",
            "ticks": ""
           }
          },
          "title": {
           "x": 0.05
          },
          "xaxis": {
           "automargin": true,
           "gridcolor": "white",
           "linecolor": "white",
           "ticks": "",
           "title": {
            "standoff": 15
           },
           "zerolinecolor": "white",
           "zerolinewidth": 2
          },
          "yaxis": {
           "automargin": true,
           "gridcolor": "white",
           "linecolor": "white",
           "ticks": "",
           "title": {
            "standoff": 15
           },
           "zerolinecolor": "white",
           "zerolinewidth": 2
          }
         }
        },
        "title": {
         "text": "Distribution of Wine Production by Area (1961)"
        }
       }
      }
     },
     "metadata": {},
     "output_type": "display_data"
    }
   ],
   "source": [
    "# Filter for the item 'Wine'\n",
    "beer_df = merged_df[\n",
    "    (merged_df['ITEM'] == 'Wine') &\n",
    "    (merged_df['YEAR'] == 1961)\n",
    "]\n",
    "\n",
    "# Create the choropleth map\n",
    "fig = px.choropleth(\n",
    "    beer_df,\n",
    "    locations=\"AREA\",\n",
    "    locationmode=\"country names\",\n",
    "    color=\"PRODUCTION_VALUE\",\n",
    "    title=\"Distribution of Wine Production by Area (1961)\",\n",
    "    color_continuous_scale=px.colors.sequential.Plasma\n",
    ")\n",
    "\n",
    "# Show the map\n",
    "fig.show()"
   ]
  },
  {
   "cell_type": "markdown",
   "metadata": {},
   "source": [
    "Additionally, with this choropleth map, we can see that in 1961, France, Italy, and Spain had the highest wine production. This shows that the wine culture has been around in Europe since before."
   ]
  },
  {
   "cell_type": "markdown",
   "metadata": {},
   "source": [
    "# Task 4: Drawing Conclusions\n"
   ]
  },
  {
   "cell_type": "markdown",
   "metadata": {},
   "source": [
    "1. Analysis Summary:\n",
    "    - Based on your analysis and visualizations, write a short report summarizing your findings.\n",
    "    - Highlight key insights, trends, and any surprising results.\n",
    "    - Discuss the potential implications of your findings in the context of global food security, agricultural production, or trade."
   ]
  },
  {
   "cell_type": "code",
   "execution_count": 245,
   "metadata": {},
   "outputs": [],
   "source": [
    "# Insert Summary"
   ]
  },
  {
   "cell_type": "markdown",
   "metadata": {},
   "source": [
    "2. Actionable Recommendations:\n",
    "    - Based on the data analysis, provide at least two recommendations for policymakers or stakeholders in the agriculture sector.\n",
    "    - Justify your recommendations with specific references to the data and visualizations you’ve created."
   ]
  },
  {
   "cell_type": "code",
   "execution_count": 246,
   "metadata": {},
   "outputs": [],
   "source": [
    "# Insert Recommendations"
   ]
  }
 ],
 "metadata": {
  "kernelspec": {
   "display_name": "Python 3",
   "language": "python",
   "name": "python3"
  },
  "language_info": {
   "codemirror_mode": {
    "name": "ipython",
    "version": 3
   },
   "file_extension": ".py",
   "mimetype": "text/x-python",
   "name": "python",
   "nbconvert_exporter": "python",
   "pygments_lexer": "ipython3",
   "version": "3.12.1"
  }
 },
 "nbformat": 4,
 "nbformat_minor": 2
}
